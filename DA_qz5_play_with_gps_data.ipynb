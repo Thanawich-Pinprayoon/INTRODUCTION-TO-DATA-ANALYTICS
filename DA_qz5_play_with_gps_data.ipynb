{
  "nbformat": 4,
  "nbformat_minor": 0,
  "metadata": {
    "colab": {
      "name": "DA-qz5 play_with_gps_data.ipynb",
      "provenance": [],
      "collapsed_sections": [],
      "authorship_tag": "ABX9TyNIUgBdf3xqEkVQtyDIOvs6",
      "include_colab_link": true
    },
    "kernelspec": {
      "name": "python3",
      "display_name": "Python 3"
    }
  },
  "cells": [
    {
      "cell_type": "markdown",
      "metadata": {
        "id": "view-in-github",
        "colab_type": "text"
      },
      "source": [
        "<a href=\"https://colab.research.google.com/github/Thanawich-Pinprayoon/INTRODUCTION-TO-DATA-ANALYTICS/blob/main/DA_qz5_play_with_gps_data.ipynb\" target=\"_parent\"><img src=\"https://colab.research.google.com/assets/colab-badge.svg\" alt=\"Open In Colab\"/></a>"
      ]
    },
    {
      "cell_type": "markdown",
      "metadata": {
        "id": "S74V4x0MNCf3"
      },
      "source": [
        "จงวิเคราะห์ข้อมูล GPS Data ของ Taxi ใน Bangkok\r\n",
        "\r\n",
        "จากข้อมูลใน https://drive.google.com/drive/u/1/folders/1ieec1k9geI6EKbtSe3J6JqN0SQPm1o3E (Links to an external site.) \r\n",
        "(ใช้ KMITL account เพื่อเข้าถึง)\r\n",
        "\r\n",
        "รายละเอียดข้อมูลอยู่ใน https://drive.google.com/file/d/1Z9YPaBRqZRAGSJ8LiMwgOpey_CbYcK1-/view (Links to an external site.) \r\n",
        "\r\n",
        "-----------------------------\r\n",
        "\r\n",
        "หมายเหตุ:\r\n",
        "\r\n",
        "วิธีอ่านหลายๆ csv ไฟล์ มาไว้ใน dataframe ดูที่ https://stackoverflow.com/questions/20906474/import-multiple-csv-files-into-pandas-and-concatenate-into-one-dataframe (Links to an external site.) "
      ]
    },
    {
      "cell_type": "code",
      "metadata": {
        "colab": {
          "base_uri": "https://localhost:8080/"
        },
        "id": "r-XLvKwkNByB",
        "outputId": "30742e74-f751-4b35-a7c4-42701d81a96a"
      },
      "source": [
        "import os\r\n",
        "from google.colab import drive\r\n",
        "drive.mount('/content/drive')"
      ],
      "execution_count": null,
      "outputs": [
        {
          "output_type": "stream",
          "text": [
            "Mounted at /content/drive\n"
          ],
          "name": "stdout"
        }
      ]
    },
    {
      "cell_type": "code",
      "metadata": {
        "id": "Gc_UCkGdOV7m"
      },
      "source": [
        "import glob\r\n",
        "import pandas as pd"
      ],
      "execution_count": null,
      "outputs": []
    },
    {
      "cell_type": "code",
      "metadata": {
        "id": "KiSMKcz2MsFY"
      },
      "source": [
        "path =r'/content/drive/My Drive/Ming-Ham=ShipHai/ปี 3/DA/2018-12-25'\r\n",
        "filenames = glob.glob(path + \"/*.csv\")"
      ],
      "execution_count": null,
      "outputs": []
    },
    {
      "cell_type": "code",
      "metadata": {
        "id": "AhFsLqatObzR"
      },
      "source": [
        "dfs = []\r\n",
        "for filename in filenames:\r\n",
        "    dfs.append(pd.read_csv(filename))\r\n",
        "\r\n",
        "# Concatenate all data into one DataFrame\r\n",
        "big_frame = pd.concat(dfs, ignore_index=True)"
      ],
      "execution_count": null,
      "outputs": []
    },
    {
      "cell_type": "markdown",
      "metadata": {
        "id": "KeU_IJuAPii8"
      },
      "source": [
        "จากข้อมูลในไฟล์ \"2018-12-25.05.csv\":\r\n",
        "\r\n",
        "#จงหาจำนวนรถแท็กซี่?\r\n",
        "\r\n",
        "(ตอบเป็นเลขจำนวนเต็ม)"
      ]
    },
    {
      "cell_type": "code",
      "metadata": {
        "id": "JnkJOl8PPrhJ"
      },
      "source": [
        "df = pd.read_csv('/content/drive/My Drive/Ming-Ham=ShipHai/ปี 3/DA/2018-12-25/2018-12-25.05.csv')"
      ],
      "execution_count": null,
      "outputs": []
    },
    {
      "cell_type": "code",
      "metadata": {
        "colab": {
          "base_uri": "https://localhost:8080/",
          "height": 419
        },
        "id": "017bmC17P8KO",
        "outputId": "4b3c28dd-09ee-468b-b33a-d012ab99e291"
      },
      "source": [
        "df"
      ],
      "execution_count": null,
      "outputs": [
        {
          "output_type": "execute_result",
          "data": {
            "text/html": [
              "<div>\n",
              "<style scoped>\n",
              "    .dataframe tbody tr th:only-of-type {\n",
              "        vertical-align: middle;\n",
              "    }\n",
              "\n",
              "    .dataframe tbody tr th {\n",
              "        vertical-align: top;\n",
              "    }\n",
              "\n",
              "    .dataframe thead th {\n",
              "        text-align: right;\n",
              "    }\n",
              "</style>\n",
              "<table border=\"1\" class=\"dataframe\">\n",
              "  <thead>\n",
              "    <tr style=\"text-align: right;\">\n",
              "      <th></th>\n",
              "      <th>vid</th>\n",
              "      <th>gpsvalid</th>\n",
              "      <th>lat</th>\n",
              "      <th>lon</th>\n",
              "      <th>timestamp</th>\n",
              "      <th>speed</th>\n",
              "      <th>heading</th>\n",
              "      <th>for_hire_light</th>\n",
              "      <th>engine_acc</th>\n",
              "      <th>city</th>\n",
              "    </tr>\n",
              "  </thead>\n",
              "  <tbody>\n",
              "    <tr>\n",
              "      <th>0</th>\n",
              "      <td>pjy9IwPUVhWJ4T9amOrMzh1jiIc</td>\n",
              "      <td>1</td>\n",
              "      <td>13.66879</td>\n",
              "      <td>100.51302</td>\n",
              "      <td>2018-12-25 05:00:00</td>\n",
              "      <td>36</td>\n",
              "      <td>302</td>\n",
              "      <td>1</td>\n",
              "      <td>1</td>\n",
              "      <td>Bangkok</td>\n",
              "    </tr>\n",
              "    <tr>\n",
              "      <th>1</th>\n",
              "      <td>D1yS3NBW41iKDPpAa1ebGIgoECs</td>\n",
              "      <td>1</td>\n",
              "      <td>13.77991</td>\n",
              "      <td>100.39416</td>\n",
              "      <td>2018-12-25 05:00:00</td>\n",
              "      <td>0</td>\n",
              "      <td>173</td>\n",
              "      <td>1</td>\n",
              "      <td>0</td>\n",
              "      <td>Bangkok</td>\n",
              "    </tr>\n",
              "    <tr>\n",
              "      <th>2</th>\n",
              "      <td>cD+OB3LV8PISg+ax0k8eIveBmXg</td>\n",
              "      <td>1</td>\n",
              "      <td>13.80972</td>\n",
              "      <td>100.50938</td>\n",
              "      <td>2018-12-25 05:00:00</td>\n",
              "      <td>0</td>\n",
              "      <td>54</td>\n",
              "      <td>1</td>\n",
              "      <td>0</td>\n",
              "      <td>Bangkok</td>\n",
              "    </tr>\n",
              "    <tr>\n",
              "      <th>3</th>\n",
              "      <td>al+J6JFDSlVYnj571mGQQfjPtS0</td>\n",
              "      <td>1</td>\n",
              "      <td>13.92357</td>\n",
              "      <td>100.65541</td>\n",
              "      <td>2018-12-25 05:00:00</td>\n",
              "      <td>0</td>\n",
              "      <td>181</td>\n",
              "      <td>1</td>\n",
              "      <td>0</td>\n",
              "      <td>Bangkok</td>\n",
              "    </tr>\n",
              "    <tr>\n",
              "      <th>4</th>\n",
              "      <td>8TnKtxD0Utvep2A33w2Wh3PXAiY</td>\n",
              "      <td>1</td>\n",
              "      <td>13.70686</td>\n",
              "      <td>100.41914</td>\n",
              "      <td>2018-12-25 05:00:00</td>\n",
              "      <td>0</td>\n",
              "      <td>103</td>\n",
              "      <td>0</td>\n",
              "      <td>0</td>\n",
              "      <td>Bangkok</td>\n",
              "    </tr>\n",
              "    <tr>\n",
              "      <th>...</th>\n",
              "      <td>...</td>\n",
              "      <td>...</td>\n",
              "      <td>...</td>\n",
              "      <td>...</td>\n",
              "      <td>...</td>\n",
              "      <td>...</td>\n",
              "      <td>...</td>\n",
              "      <td>...</td>\n",
              "      <td>...</td>\n",
              "      <td>...</td>\n",
              "    </tr>\n",
              "    <tr>\n",
              "      <th>88589</th>\n",
              "      <td>WTPX1OPguJTNoQCGxTdSIMDoqi4</td>\n",
              "      <td>1</td>\n",
              "      <td>13.68820</td>\n",
              "      <td>100.61516</td>\n",
              "      <td>2018-12-25 05:59:59</td>\n",
              "      <td>0</td>\n",
              "      <td>154</td>\n",
              "      <td>1</td>\n",
              "      <td>0</td>\n",
              "      <td>Bangkok</td>\n",
              "    </tr>\n",
              "    <tr>\n",
              "      <th>88590</th>\n",
              "      <td>89RpA2ELBuNF9x/EoaglsCtshk0</td>\n",
              "      <td>1</td>\n",
              "      <td>13.74279</td>\n",
              "      <td>100.59161</td>\n",
              "      <td>2018-12-25 05:59:59</td>\n",
              "      <td>39</td>\n",
              "      <td>203</td>\n",
              "      <td>0</td>\n",
              "      <td>1</td>\n",
              "      <td>Bangkok</td>\n",
              "    </tr>\n",
              "    <tr>\n",
              "      <th>88591</th>\n",
              "      <td>YNPfUVHADjCPLlFrCLKle6gh1VQ</td>\n",
              "      <td>1</td>\n",
              "      <td>13.78264</td>\n",
              "      <td>100.44334</td>\n",
              "      <td>2018-12-25 05:59:59</td>\n",
              "      <td>37</td>\n",
              "      <td>177</td>\n",
              "      <td>1</td>\n",
              "      <td>1</td>\n",
              "      <td>Bangkok</td>\n",
              "    </tr>\n",
              "    <tr>\n",
              "      <th>88592</th>\n",
              "      <td>iQ636QpbczfaRlYxjDoB+l/wmss</td>\n",
              "      <td>1</td>\n",
              "      <td>13.91401</td>\n",
              "      <td>100.59902</td>\n",
              "      <td>2018-12-25 05:59:59</td>\n",
              "      <td>12</td>\n",
              "      <td>195</td>\n",
              "      <td>0</td>\n",
              "      <td>1</td>\n",
              "      <td>Bangkok</td>\n",
              "    </tr>\n",
              "    <tr>\n",
              "      <th>88593</th>\n",
              "      <td>DojNVh84/JKYv2r9TzYJGOUSLCY</td>\n",
              "      <td>1</td>\n",
              "      <td>13.73042</td>\n",
              "      <td>100.69139</td>\n",
              "      <td>2018-12-25 05:59:59</td>\n",
              "      <td>0</td>\n",
              "      <td>288</td>\n",
              "      <td>1</td>\n",
              "      <td>0</td>\n",
              "      <td>Bangkok</td>\n",
              "    </tr>\n",
              "  </tbody>\n",
              "</table>\n",
              "<p>88594 rows × 10 columns</p>\n",
              "</div>"
            ],
            "text/plain": [
              "                               vid  gpsvalid  ...  engine_acc     city\n",
              "0      pjy9IwPUVhWJ4T9amOrMzh1jiIc         1  ...           1  Bangkok\n",
              "1      D1yS3NBW41iKDPpAa1ebGIgoECs         1  ...           0  Bangkok\n",
              "2      cD+OB3LV8PISg+ax0k8eIveBmXg         1  ...           0  Bangkok\n",
              "3      al+J6JFDSlVYnj571mGQQfjPtS0         1  ...           0  Bangkok\n",
              "4      8TnKtxD0Utvep2A33w2Wh3PXAiY         1  ...           0  Bangkok\n",
              "...                            ...       ...  ...         ...      ...\n",
              "88589  WTPX1OPguJTNoQCGxTdSIMDoqi4         1  ...           0  Bangkok\n",
              "88590  89RpA2ELBuNF9x/EoaglsCtshk0         1  ...           1  Bangkok\n",
              "88591  YNPfUVHADjCPLlFrCLKle6gh1VQ         1  ...           1  Bangkok\n",
              "88592  iQ636QpbczfaRlYxjDoB+l/wmss         1  ...           1  Bangkok\n",
              "88593  DojNVh84/JKYv2r9TzYJGOUSLCY         1  ...           0  Bangkok\n",
              "\n",
              "[88594 rows x 10 columns]"
            ]
          },
          "metadata": {
            "tags": []
          },
          "execution_count": 7
        }
      ]
    },
    {
      "cell_type": "code",
      "metadata": {
        "colab": {
          "base_uri": "https://localhost:8080/"
        },
        "id": "umkQ-0HKQIBW",
        "outputId": "b0ac3e60-45e6-4ab7-b2d9-040a2d42dda1"
      },
      "source": [
        "len(df['vid'].unique())"
      ],
      "execution_count": null,
      "outputs": [
        {
          "output_type": "execute_result",
          "data": {
            "text/plain": [
              "3485"
            ]
          },
          "metadata": {
            "tags": []
          },
          "execution_count": 11
        }
      ]
    },
    {
      "cell_type": "markdown",
      "metadata": {
        "id": "vZX82Z5gQ7Iu"
      },
      "source": [
        "จากข้อมูลในไฟล์ \"2018-12-25.05.csv\":\r\n",
        "\r\n",
        "#จงหาความเร็วเฉลี่ยของแท็กซี่ ในช่วงที่มีผู้โดยสาร (ไม่นับข้อมูลที่ความเร็วเป็น 0)?\r\n",
        "\r\n",
        "(ตอบเป็นเลขจำนวนเต็ม)"
      ]
    },
    {
      "cell_type": "code",
      "metadata": {
        "colab": {
          "base_uri": "https://localhost:8080/",
          "height": 282
        },
        "id": "TXyb29JmQmqG",
        "outputId": "ce4986e0-5e3c-4ccc-f3a5-202dc254b008"
      },
      "source": [
        "df[ (df['for_hire_light'] == 0) and (df['speed'] != 0 )]"
      ],
      "execution_count": null,
      "outputs": [
        {
          "output_type": "error",
          "ename": "ValueError",
          "evalue": "ignored",
          "traceback": [
            "\u001b[0;31m---------------------------------------------------------------------------\u001b[0m",
            "\u001b[0;31mValueError\u001b[0m                                Traceback (most recent call last)",
            "\u001b[0;32m<ipython-input-19-4e62b49998ef>\u001b[0m in \u001b[0;36m<module>\u001b[0;34m()\u001b[0m\n\u001b[0;32m----> 1\u001b[0;31m \u001b[0mdf\u001b[0m\u001b[0;34m[\u001b[0m \u001b[0;34m(\u001b[0m\u001b[0mdf\u001b[0m\u001b[0;34m[\u001b[0m\u001b[0;34m'for_hire_light'\u001b[0m\u001b[0;34m]\u001b[0m \u001b[0;34m==\u001b[0m \u001b[0;36m0\u001b[0m\u001b[0;34m)\u001b[0m \u001b[0;32mand\u001b[0m \u001b[0;34m(\u001b[0m\u001b[0mdf\u001b[0m\u001b[0;34m[\u001b[0m\u001b[0;34m'speed'\u001b[0m\u001b[0;34m]\u001b[0m \u001b[0;34m!=\u001b[0m \u001b[0;36m0\u001b[0m \u001b[0;34m)\u001b[0m\u001b[0;34m]\u001b[0m\u001b[0;34m\u001b[0m\u001b[0;34m\u001b[0m\u001b[0m\n\u001b[0m",
            "\u001b[0;32m/usr/local/lib/python3.7/dist-packages/pandas/core/generic.py\u001b[0m in \u001b[0;36m__nonzero__\u001b[0;34m(self)\u001b[0m\n\u001b[1;32m   1328\u001b[0m     \u001b[0;32mdef\u001b[0m \u001b[0m__nonzero__\u001b[0m\u001b[0;34m(\u001b[0m\u001b[0mself\u001b[0m\u001b[0;34m)\u001b[0m\u001b[0;34m:\u001b[0m\u001b[0;34m\u001b[0m\u001b[0;34m\u001b[0m\u001b[0m\n\u001b[1;32m   1329\u001b[0m         raise ValueError(\n\u001b[0;32m-> 1330\u001b[0;31m             \u001b[0;34mf\"The truth value of a {type(self).__name__} is ambiguous. \"\u001b[0m\u001b[0;34m\u001b[0m\u001b[0;34m\u001b[0m\u001b[0m\n\u001b[0m\u001b[1;32m   1331\u001b[0m             \u001b[0;34m\"Use a.empty, a.bool(), a.item(), a.any() or a.all().\"\u001b[0m\u001b[0;34m\u001b[0m\u001b[0;34m\u001b[0m\u001b[0m\n\u001b[1;32m   1332\u001b[0m         )\n",
            "\u001b[0;31mValueError\u001b[0m: The truth value of a Series is ambiguous. Use a.empty, a.bool(), a.item(), a.any() or a.all()."
          ]
        }
      ]
    },
    {
      "cell_type": "code",
      "metadata": {
        "colab": {
          "base_uri": "https://localhost:8080/"
        },
        "id": "1GQx9AfKT-qd",
        "outputId": "3888a89a-6127-49f7-f977-d531b8b067f4"
      },
      "source": [
        "df[(df['for_hire_light'] == 0) & (df['speed'] != 0) ].mean()"
      ],
      "execution_count": null,
      "outputs": [
        {
          "output_type": "execute_result",
          "data": {
            "text/plain": [
              "gpsvalid            0.994191\n",
              "lat                13.767763\n",
              "lon               100.556005\n",
              "speed              37.217592\n",
              "heading           176.051355\n",
              "for_hire_light      0.000000\n",
              "engine_acc          0.993085\n",
              "dtype: float64"
            ]
          },
          "metadata": {
            "tags": []
          },
          "execution_count": 21
        }
      ]
    },
    {
      "cell_type": "markdown",
      "metadata": {
        "id": "AhISZc3sVZk8"
      },
      "source": [
        "จากข้อมูลในไฟล์ \"2018-12-25.05.csv\":\r\n",
        "\r\n",
        "#จงหาจำนวนนาทีที่รถแท็กซี่หมายเลข \"bwmSJnFxrwrAUjqBcqCWOlj5f9Y\" ขับขี่โดยมีผู้โดยสารใน 1 เที่ยววิ่ง"
      ]
    },
    {
      "cell_type": "code",
      "metadata": {
        "colab": {
          "base_uri": "https://localhost:8080/",
          "height": 266
        },
        "id": "N7N1lbPHW8FW",
        "outputId": "b52c26a9-e591-4feb-dc97-6f5462a55c13"
      },
      "source": [
        "df[ (df['vid'] == 'bwmSJnFxrwrAUjqBcqCWOlj5f9Y') & (df['for_hire_light'] == 0)].sort_values(by='timestamp')"
      ],
      "execution_count": null,
      "outputs": [
        {
          "output_type": "execute_result",
          "data": {
            "text/html": [
              "<div>\n",
              "<style scoped>\n",
              "    .dataframe tbody tr th:only-of-type {\n",
              "        vertical-align: middle;\n",
              "    }\n",
              "\n",
              "    .dataframe tbody tr th {\n",
              "        vertical-align: top;\n",
              "    }\n",
              "\n",
              "    .dataframe thead th {\n",
              "        text-align: right;\n",
              "    }\n",
              "</style>\n",
              "<table border=\"1\" class=\"dataframe\">\n",
              "  <thead>\n",
              "    <tr style=\"text-align: right;\">\n",
              "      <th></th>\n",
              "      <th>vid</th>\n",
              "      <th>gpsvalid</th>\n",
              "      <th>lat</th>\n",
              "      <th>lon</th>\n",
              "      <th>timestamp</th>\n",
              "      <th>speed</th>\n",
              "      <th>heading</th>\n",
              "      <th>for_hire_light</th>\n",
              "      <th>engine_acc</th>\n",
              "      <th>city</th>\n",
              "    </tr>\n",
              "  </thead>\n",
              "  <tbody>\n",
              "    <tr>\n",
              "      <th>7389</th>\n",
              "      <td>bwmSJnFxrwrAUjqBcqCWOlj5f9Y</td>\n",
              "      <td>1</td>\n",
              "      <td>13.71271</td>\n",
              "      <td>100.47125</td>\n",
              "      <td>2018-12-25 05:05:11</td>\n",
              "      <td>0</td>\n",
              "      <td>205</td>\n",
              "      <td>0</td>\n",
              "      <td>1</td>\n",
              "      <td>Bangkok</td>\n",
              "    </tr>\n",
              "    <tr>\n",
              "      <th>8755</th>\n",
              "      <td>bwmSJnFxrwrAUjqBcqCWOlj5f9Y</td>\n",
              "      <td>1</td>\n",
              "      <td>13.70653</td>\n",
              "      <td>100.46848</td>\n",
              "      <td>2018-12-25 05:06:11</td>\n",
              "      <td>50</td>\n",
              "      <td>203</td>\n",
              "      <td>0</td>\n",
              "      <td>1</td>\n",
              "      <td>Bangkok</td>\n",
              "    </tr>\n",
              "    <tr>\n",
              "      <th>10122</th>\n",
              "      <td>bwmSJnFxrwrAUjqBcqCWOlj5f9Y</td>\n",
              "      <td>1</td>\n",
              "      <td>13.70135</td>\n",
              "      <td>100.46837</td>\n",
              "      <td>2018-12-25 05:07:11</td>\n",
              "      <td>39</td>\n",
              "      <td>206</td>\n",
              "      <td>0</td>\n",
              "      <td>1</td>\n",
              "      <td>Bangkok</td>\n",
              "    </tr>\n",
              "    <tr>\n",
              "      <th>11636</th>\n",
              "      <td>bwmSJnFxrwrAUjqBcqCWOlj5f9Y</td>\n",
              "      <td>1</td>\n",
              "      <td>13.69906</td>\n",
              "      <td>100.46928</td>\n",
              "      <td>2018-12-25 05:08:11</td>\n",
              "      <td>46</td>\n",
              "      <td>98</td>\n",
              "      <td>0</td>\n",
              "      <td>1</td>\n",
              "      <td>Bangkok</td>\n",
              "    </tr>\n",
              "    <tr>\n",
              "      <th>18800</th>\n",
              "      <td>bwmSJnFxrwrAUjqBcqCWOlj5f9Y</td>\n",
              "      <td>1</td>\n",
              "      <td>13.70771</td>\n",
              "      <td>100.48653</td>\n",
              "      <td>2018-12-25 05:13:11</td>\n",
              "      <td>52</td>\n",
              "      <td>18</td>\n",
              "      <td>0</td>\n",
              "      <td>1</td>\n",
              "      <td>Bangkok</td>\n",
              "    </tr>\n",
              "    <tr>\n",
              "      <th>24580</th>\n",
              "      <td>bwmSJnFxrwrAUjqBcqCWOlj5f9Y</td>\n",
              "      <td>1</td>\n",
              "      <td>13.71319</td>\n",
              "      <td>100.48870</td>\n",
              "      <td>2018-12-25 05:17:11</td>\n",
              "      <td>0</td>\n",
              "      <td>201</td>\n",
              "      <td>0</td>\n",
              "      <td>1</td>\n",
              "      <td>Bangkok</td>\n",
              "    </tr>\n",
              "    <tr>\n",
              "      <th>28969</th>\n",
              "      <td>bwmSJnFxrwrAUjqBcqCWOlj5f9Y</td>\n",
              "      <td>1</td>\n",
              "      <td>13.70142</td>\n",
              "      <td>100.49132</td>\n",
              "      <td>2018-12-25 05:20:11</td>\n",
              "      <td>63</td>\n",
              "      <td>118</td>\n",
              "      <td>0</td>\n",
              "      <td>1</td>\n",
              "      <td>Bangkok</td>\n",
              "    </tr>\n",
              "  </tbody>\n",
              "</table>\n",
              "</div>"
            ],
            "text/plain": [
              "                               vid  gpsvalid  ...  engine_acc     city\n",
              "7389   bwmSJnFxrwrAUjqBcqCWOlj5f9Y         1  ...           1  Bangkok\n",
              "8755   bwmSJnFxrwrAUjqBcqCWOlj5f9Y         1  ...           1  Bangkok\n",
              "10122  bwmSJnFxrwrAUjqBcqCWOlj5f9Y         1  ...           1  Bangkok\n",
              "11636  bwmSJnFxrwrAUjqBcqCWOlj5f9Y         1  ...           1  Bangkok\n",
              "18800  bwmSJnFxrwrAUjqBcqCWOlj5f9Y         1  ...           1  Bangkok\n",
              "24580  bwmSJnFxrwrAUjqBcqCWOlj5f9Y         1  ...           1  Bangkok\n",
              "28969  bwmSJnFxrwrAUjqBcqCWOlj5f9Y         1  ...           1  Bangkok\n",
              "\n",
              "[7 rows x 10 columns]"
            ]
          },
          "metadata": {
            "tags": []
          },
          "execution_count": 36
        }
      ]
    },
    {
      "cell_type": "markdown",
      "metadata": {
        "id": "UUe_6NTkXwWF"
      },
      "source": [
        "จากข้อมูลในวันที่ \"2018-12-25\":\r\n",
        "\r\n",
        "#จงหาความเร็วเฉลี่ยของแท็กซี่ ในช่วงที่มีผู้โดยสาร (ไม่นับข้อมูลที่ความเร็วเป็น 0)?\r\n",
        "\r\n",
        "(ตอบเป็นเลขจำนวนเต็ม)"
      ]
    },
    {
      "cell_type": "code",
      "metadata": {
        "colab": {
          "base_uri": "https://localhost:8080/"
        },
        "id": "8JQMDfPUXtJI",
        "outputId": "37a47518-ca02-4f85-8721-a98013a3a3f2"
      },
      "source": [
        "big_frame[ (big_frame['for_hire_light'] == 0) & (big_frame['speed'] != 0 )].mean()"
      ],
      "execution_count": null,
      "outputs": [
        {
          "output_type": "execute_result",
          "data": {
            "text/plain": [
              "gpsvalid            0.995343\n",
              "lat                13.766056\n",
              "lon               100.558226\n",
              "speed              31.080942\n",
              "heading           175.031718\n",
              "for_hire_light      0.000000\n",
              "engine_acc          0.988498\n",
              "dtype: float64"
            ]
          },
          "metadata": {
            "tags": []
          },
          "execution_count": 40
        }
      ]
    },
    {
      "cell_type": "markdown",
      "metadata": {
        "id": "UdBXJp0lYcMp"
      },
      "source": [
        "จากข้อมูลในวันที่ \"2018-12-25\":\r\n",
        "\r\n",
        "#จงหาความเร็วเฉลี่ยของความเร็วสูงสุดของแท็กซี่แต่ละคัน ในช่วงที่มีผู้โดยสาร (ไม่นับข้อมูลที่ความเร็วเป็น 0)?\r\n",
        "\r\n",
        "(ตอบเป็นเลขจำนวนเต็ม)"
      ]
    },
    {
      "cell_type": "code",
      "metadata": {
        "colab": {
          "base_uri": "https://localhost:8080/"
        },
        "id": "njGwoI5zYg1F",
        "outputId": "d50893d0-718d-4a43-ea2e-5f44c92a3640"
      },
      "source": [
        "big_frame[ (big_frame['for_hire_light'] == 0) & (big_frame['speed'] != 0 )].groupby('vid').max().mean()"
      ],
      "execution_count": null,
      "outputs": [
        {
          "output_type": "execute_result",
          "data": {
            "text/plain": [
              "gpsvalid            0.999745\n",
              "lat                13.856830\n",
              "lon               100.661257\n",
              "speed              76.852551\n",
              "heading           344.610204\n",
              "for_hire_light      0.000000\n",
              "engine_acc          0.991327\n",
              "dtype: float64"
            ]
          },
          "metadata": {
            "tags": []
          },
          "execution_count": 42
        }
      ]
    },
    {
      "cell_type": "markdown",
      "metadata": {
        "id": "aU2B_KWcY0Lp"
      },
      "source": [
        "จากข้อมูลในวันที่ \"2018-12-25\":\r\n",
        "\r\n",
        "#ชั่วโมงใดที่มีจำนวนแทกซี่สูงสุด?\r\n",
        "\r\n",
        "(ตอบเป็นเลขจำนวนเต็ม)"
      ]
    },
    {
      "cell_type": "code",
      "metadata": {
        "colab": {
          "base_uri": "https://localhost:8080/"
        },
        "id": "7zAbw9tcY4qk",
        "outputId": "cdf1e773-0da9-42d7-88ce-0fa8405336b5"
      },
      "source": [
        "pd.to_datetime(big_frame.timestamp)"
      ],
      "execution_count": null,
      "outputs": [
        {
          "output_type": "execute_result",
          "data": {
            "text/plain": [
              "0         2018-12-25 16:00:00\n",
              "1         2018-12-25 16:00:00\n",
              "2         2018-12-25 16:00:00\n",
              "3         2018-12-25 16:00:00\n",
              "4         2018-12-25 16:00:00\n",
              "                  ...        \n",
              "2495272   2018-12-25 18:59:59\n",
              "2495273   2018-12-25 18:59:59\n",
              "2495274   2018-12-25 18:59:59\n",
              "2495275   2018-12-25 18:59:59\n",
              "2495276   2018-12-25 18:59:59\n",
              "Name: timestamp, Length: 2495277, dtype: datetime64[ns]"
            ]
          },
          "metadata": {
            "tags": []
          },
          "execution_count": 47
        }
      ]
    },
    {
      "cell_type": "code",
      "metadata": {
        "id": "SLOBKAbrbYoH"
      },
      "source": [
        "big_frame['timestamp'] = pd.to_datetime(big_frame.timestamp)"
      ],
      "execution_count": null,
      "outputs": []
    },
    {
      "cell_type": "code",
      "metadata": {
        "colab": {
          "base_uri": "https://localhost:8080/",
          "height": 419
        },
        "id": "r-UTPJWjbxYO",
        "outputId": "5a7c4a29-5f8e-4a91-a172-c849a1cc6730"
      },
      "source": [
        "big_frame"
      ],
      "execution_count": null,
      "outputs": [
        {
          "output_type": "execute_result",
          "data": {
            "text/html": [
              "<div>\n",
              "<style scoped>\n",
              "    .dataframe tbody tr th:only-of-type {\n",
              "        vertical-align: middle;\n",
              "    }\n",
              "\n",
              "    .dataframe tbody tr th {\n",
              "        vertical-align: top;\n",
              "    }\n",
              "\n",
              "    .dataframe thead th {\n",
              "        text-align: right;\n",
              "    }\n",
              "</style>\n",
              "<table border=\"1\" class=\"dataframe\">\n",
              "  <thead>\n",
              "    <tr style=\"text-align: right;\">\n",
              "      <th></th>\n",
              "      <th>vid</th>\n",
              "      <th>gpsvalid</th>\n",
              "      <th>lat</th>\n",
              "      <th>lon</th>\n",
              "      <th>timestamp</th>\n",
              "      <th>speed</th>\n",
              "      <th>heading</th>\n",
              "      <th>for_hire_light</th>\n",
              "      <th>engine_acc</th>\n",
              "      <th>city</th>\n",
              "    </tr>\n",
              "  </thead>\n",
              "  <tbody>\n",
              "    <tr>\n",
              "      <th>0</th>\n",
              "      <td>/Zj/M2Xz5uW1jUr3EJZwx07SUYE</td>\n",
              "      <td>1</td>\n",
              "      <td>13.70456</td>\n",
              "      <td>100.48583</td>\n",
              "      <td>2018-12-25 16:00:00</td>\n",
              "      <td>0</td>\n",
              "      <td>308</td>\n",
              "      <td>0</td>\n",
              "      <td>1</td>\n",
              "      <td>Bangkok</td>\n",
              "    </tr>\n",
              "    <tr>\n",
              "      <th>1</th>\n",
              "      <td>avZbZZiOTZ4dltE/symL8WeJ5YQ</td>\n",
              "      <td>1</td>\n",
              "      <td>13.72124</td>\n",
              "      <td>100.53021</td>\n",
              "      <td>2018-12-25 16:00:00</td>\n",
              "      <td>0</td>\n",
              "      <td>329</td>\n",
              "      <td>0</td>\n",
              "      <td>1</td>\n",
              "      <td>Bangkok</td>\n",
              "    </tr>\n",
              "    <tr>\n",
              "      <th>2</th>\n",
              "      <td>vtCX0mW0uUEqGiIiMwoeDLaPWI4</td>\n",
              "      <td>1</td>\n",
              "      <td>13.93287</td>\n",
              "      <td>100.68606</td>\n",
              "      <td>2018-12-25 16:00:00</td>\n",
              "      <td>22</td>\n",
              "      <td>88</td>\n",
              "      <td>1</td>\n",
              "      <td>1</td>\n",
              "      <td>Bangkok</td>\n",
              "    </tr>\n",
              "    <tr>\n",
              "      <th>3</th>\n",
              "      <td>L5lLRWLfD2kID9bUcYv1W1Ivhyo</td>\n",
              "      <td>1</td>\n",
              "      <td>13.73693</td>\n",
              "      <td>100.56151</td>\n",
              "      <td>2018-12-25 16:00:00</td>\n",
              "      <td>0</td>\n",
              "      <td>185</td>\n",
              "      <td>0</td>\n",
              "      <td>1</td>\n",
              "      <td>Bangkok</td>\n",
              "    </tr>\n",
              "    <tr>\n",
              "      <th>4</th>\n",
              "      <td>I+qBYDuuYwppA8mhB9tHgK8qgEo</td>\n",
              "      <td>1</td>\n",
              "      <td>13.86906</td>\n",
              "      <td>100.57335</td>\n",
              "      <td>2018-12-25 16:00:00</td>\n",
              "      <td>60</td>\n",
              "      <td>207</td>\n",
              "      <td>1</td>\n",
              "      <td>1</td>\n",
              "      <td>Bangkok</td>\n",
              "    </tr>\n",
              "    <tr>\n",
              "      <th>...</th>\n",
              "      <td>...</td>\n",
              "      <td>...</td>\n",
              "      <td>...</td>\n",
              "      <td>...</td>\n",
              "      <td>...</td>\n",
              "      <td>...</td>\n",
              "      <td>...</td>\n",
              "      <td>...</td>\n",
              "      <td>...</td>\n",
              "      <td>...</td>\n",
              "    </tr>\n",
              "    <tr>\n",
              "      <th>2495272</th>\n",
              "      <td>EvPgnx9e+fxfW921HxdF0U26BaI</td>\n",
              "      <td>1</td>\n",
              "      <td>13.81002</td>\n",
              "      <td>100.57542</td>\n",
              "      <td>2018-12-25 18:59:59</td>\n",
              "      <td>0</td>\n",
              "      <td>267</td>\n",
              "      <td>0</td>\n",
              "      <td>1</td>\n",
              "      <td>Bangkok</td>\n",
              "    </tr>\n",
              "    <tr>\n",
              "      <th>2495273</th>\n",
              "      <td>Eiy+wXYL59TbKdGWBtKWcljFMhE</td>\n",
              "      <td>1</td>\n",
              "      <td>13.68968</td>\n",
              "      <td>100.41034</td>\n",
              "      <td>2018-12-25 18:59:59</td>\n",
              "      <td>0</td>\n",
              "      <td>153</td>\n",
              "      <td>1</td>\n",
              "      <td>0</td>\n",
              "      <td>Bangkok</td>\n",
              "    </tr>\n",
              "    <tr>\n",
              "      <th>2495274</th>\n",
              "      <td>1zqQ5ggVcBrKOhN566Up8xF5PfY</td>\n",
              "      <td>1</td>\n",
              "      <td>13.75229</td>\n",
              "      <td>100.63965</td>\n",
              "      <td>2018-12-25 18:59:59</td>\n",
              "      <td>62</td>\n",
              "      <td>83</td>\n",
              "      <td>1</td>\n",
              "      <td>1</td>\n",
              "      <td>Bangkok</td>\n",
              "    </tr>\n",
              "    <tr>\n",
              "      <th>2495275</th>\n",
              "      <td>a1W2s8z4+SLnU9qIdhabsYd4K6o</td>\n",
              "      <td>1</td>\n",
              "      <td>13.90782</td>\n",
              "      <td>100.62051</td>\n",
              "      <td>2018-12-25 18:59:59</td>\n",
              "      <td>0</td>\n",
              "      <td>30</td>\n",
              "      <td>1</td>\n",
              "      <td>0</td>\n",
              "      <td>Bangkok</td>\n",
              "    </tr>\n",
              "    <tr>\n",
              "      <th>2495276</th>\n",
              "      <td>UXPVlJt7F6LdhyNrW1Y1DBXCXaU</td>\n",
              "      <td>1</td>\n",
              "      <td>13.71228</td>\n",
              "      <td>100.47254</td>\n",
              "      <td>2018-12-25 18:59:59</td>\n",
              "      <td>26</td>\n",
              "      <td>264</td>\n",
              "      <td>1</td>\n",
              "      <td>1</td>\n",
              "      <td>Bangkok</td>\n",
              "    </tr>\n",
              "  </tbody>\n",
              "</table>\n",
              "<p>2495277 rows × 10 columns</p>\n",
              "</div>"
            ],
            "text/plain": [
              "                                 vid  gpsvalid  ...  engine_acc     city\n",
              "0        /Zj/M2Xz5uW1jUr3EJZwx07SUYE         1  ...           1  Bangkok\n",
              "1        avZbZZiOTZ4dltE/symL8WeJ5YQ         1  ...           1  Bangkok\n",
              "2        vtCX0mW0uUEqGiIiMwoeDLaPWI4         1  ...           1  Bangkok\n",
              "3        L5lLRWLfD2kID9bUcYv1W1Ivhyo         1  ...           1  Bangkok\n",
              "4        I+qBYDuuYwppA8mhB9tHgK8qgEo         1  ...           1  Bangkok\n",
              "...                              ...       ...  ...         ...      ...\n",
              "2495272  EvPgnx9e+fxfW921HxdF0U26BaI         1  ...           1  Bangkok\n",
              "2495273  Eiy+wXYL59TbKdGWBtKWcljFMhE         1  ...           0  Bangkok\n",
              "2495274  1zqQ5ggVcBrKOhN566Up8xF5PfY         1  ...           1  Bangkok\n",
              "2495275  a1W2s8z4+SLnU9qIdhabsYd4K6o         1  ...           0  Bangkok\n",
              "2495276  UXPVlJt7F6LdhyNrW1Y1DBXCXaU         1  ...           1  Bangkok\n",
              "\n",
              "[2495277 rows x 10 columns]"
            ]
          },
          "metadata": {
            "tags": []
          },
          "execution_count": 51
        }
      ]
    },
    {
      "cell_type": "code",
      "metadata": {
        "colab": {
          "base_uri": "https://localhost:8080/",
          "height": 419
        },
        "id": "O-Voja5MbfY0",
        "outputId": "89c9c2f4-f6b6-4e8d-f23c-b628f8f5637d"
      },
      "source": [
        "big_frame"
      ],
      "execution_count": null,
      "outputs": [
        {
          "output_type": "execute_result",
          "data": {
            "text/html": [
              "<div>\n",
              "<style scoped>\n",
              "    .dataframe tbody tr th:only-of-type {\n",
              "        vertical-align: middle;\n",
              "    }\n",
              "\n",
              "    .dataframe tbody tr th {\n",
              "        vertical-align: top;\n",
              "    }\n",
              "\n",
              "    .dataframe thead th {\n",
              "        text-align: right;\n",
              "    }\n",
              "</style>\n",
              "<table border=\"1\" class=\"dataframe\">\n",
              "  <thead>\n",
              "    <tr style=\"text-align: right;\">\n",
              "      <th></th>\n",
              "      <th>vid</th>\n",
              "      <th>gpsvalid</th>\n",
              "      <th>lat</th>\n",
              "      <th>lon</th>\n",
              "      <th>timestamp</th>\n",
              "      <th>speed</th>\n",
              "      <th>heading</th>\n",
              "      <th>for_hire_light</th>\n",
              "      <th>engine_acc</th>\n",
              "      <th>city</th>\n",
              "    </tr>\n",
              "  </thead>\n",
              "  <tbody>\n",
              "    <tr>\n",
              "      <th>0</th>\n",
              "      <td>/Zj/M2Xz5uW1jUr3EJZwx07SUYE</td>\n",
              "      <td>1</td>\n",
              "      <td>13.70456</td>\n",
              "      <td>100.48583</td>\n",
              "      <td>2018-12-25 16:00:00</td>\n",
              "      <td>0</td>\n",
              "      <td>308</td>\n",
              "      <td>0</td>\n",
              "      <td>1</td>\n",
              "      <td>Bangkok</td>\n",
              "    </tr>\n",
              "    <tr>\n",
              "      <th>1</th>\n",
              "      <td>avZbZZiOTZ4dltE/symL8WeJ5YQ</td>\n",
              "      <td>1</td>\n",
              "      <td>13.72124</td>\n",
              "      <td>100.53021</td>\n",
              "      <td>2018-12-25 16:00:00</td>\n",
              "      <td>0</td>\n",
              "      <td>329</td>\n",
              "      <td>0</td>\n",
              "      <td>1</td>\n",
              "      <td>Bangkok</td>\n",
              "    </tr>\n",
              "    <tr>\n",
              "      <th>2</th>\n",
              "      <td>vtCX0mW0uUEqGiIiMwoeDLaPWI4</td>\n",
              "      <td>1</td>\n",
              "      <td>13.93287</td>\n",
              "      <td>100.68606</td>\n",
              "      <td>2018-12-25 16:00:00</td>\n",
              "      <td>22</td>\n",
              "      <td>88</td>\n",
              "      <td>1</td>\n",
              "      <td>1</td>\n",
              "      <td>Bangkok</td>\n",
              "    </tr>\n",
              "    <tr>\n",
              "      <th>3</th>\n",
              "      <td>L5lLRWLfD2kID9bUcYv1W1Ivhyo</td>\n",
              "      <td>1</td>\n",
              "      <td>13.73693</td>\n",
              "      <td>100.56151</td>\n",
              "      <td>2018-12-25 16:00:00</td>\n",
              "      <td>0</td>\n",
              "      <td>185</td>\n",
              "      <td>0</td>\n",
              "      <td>1</td>\n",
              "      <td>Bangkok</td>\n",
              "    </tr>\n",
              "    <tr>\n",
              "      <th>4</th>\n",
              "      <td>I+qBYDuuYwppA8mhB9tHgK8qgEo</td>\n",
              "      <td>1</td>\n",
              "      <td>13.86906</td>\n",
              "      <td>100.57335</td>\n",
              "      <td>2018-12-25 16:00:00</td>\n",
              "      <td>60</td>\n",
              "      <td>207</td>\n",
              "      <td>1</td>\n",
              "      <td>1</td>\n",
              "      <td>Bangkok</td>\n",
              "    </tr>\n",
              "    <tr>\n",
              "      <th>...</th>\n",
              "      <td>...</td>\n",
              "      <td>...</td>\n",
              "      <td>...</td>\n",
              "      <td>...</td>\n",
              "      <td>...</td>\n",
              "      <td>...</td>\n",
              "      <td>...</td>\n",
              "      <td>...</td>\n",
              "      <td>...</td>\n",
              "      <td>...</td>\n",
              "    </tr>\n",
              "    <tr>\n",
              "      <th>2495272</th>\n",
              "      <td>EvPgnx9e+fxfW921HxdF0U26BaI</td>\n",
              "      <td>1</td>\n",
              "      <td>13.81002</td>\n",
              "      <td>100.57542</td>\n",
              "      <td>2018-12-25 18:59:59</td>\n",
              "      <td>0</td>\n",
              "      <td>267</td>\n",
              "      <td>0</td>\n",
              "      <td>1</td>\n",
              "      <td>Bangkok</td>\n",
              "    </tr>\n",
              "    <tr>\n",
              "      <th>2495273</th>\n",
              "      <td>Eiy+wXYL59TbKdGWBtKWcljFMhE</td>\n",
              "      <td>1</td>\n",
              "      <td>13.68968</td>\n",
              "      <td>100.41034</td>\n",
              "      <td>2018-12-25 18:59:59</td>\n",
              "      <td>0</td>\n",
              "      <td>153</td>\n",
              "      <td>1</td>\n",
              "      <td>0</td>\n",
              "      <td>Bangkok</td>\n",
              "    </tr>\n",
              "    <tr>\n",
              "      <th>2495274</th>\n",
              "      <td>1zqQ5ggVcBrKOhN566Up8xF5PfY</td>\n",
              "      <td>1</td>\n",
              "      <td>13.75229</td>\n",
              "      <td>100.63965</td>\n",
              "      <td>2018-12-25 18:59:59</td>\n",
              "      <td>62</td>\n",
              "      <td>83</td>\n",
              "      <td>1</td>\n",
              "      <td>1</td>\n",
              "      <td>Bangkok</td>\n",
              "    </tr>\n",
              "    <tr>\n",
              "      <th>2495275</th>\n",
              "      <td>a1W2s8z4+SLnU9qIdhabsYd4K6o</td>\n",
              "      <td>1</td>\n",
              "      <td>13.90782</td>\n",
              "      <td>100.62051</td>\n",
              "      <td>2018-12-25 18:59:59</td>\n",
              "      <td>0</td>\n",
              "      <td>30</td>\n",
              "      <td>1</td>\n",
              "      <td>0</td>\n",
              "      <td>Bangkok</td>\n",
              "    </tr>\n",
              "    <tr>\n",
              "      <th>2495276</th>\n",
              "      <td>UXPVlJt7F6LdhyNrW1Y1DBXCXaU</td>\n",
              "      <td>1</td>\n",
              "      <td>13.71228</td>\n",
              "      <td>100.47254</td>\n",
              "      <td>2018-12-25 18:59:59</td>\n",
              "      <td>26</td>\n",
              "      <td>264</td>\n",
              "      <td>1</td>\n",
              "      <td>1</td>\n",
              "      <td>Bangkok</td>\n",
              "    </tr>\n",
              "  </tbody>\n",
              "</table>\n",
              "<p>2495277 rows × 10 columns</p>\n",
              "</div>"
            ],
            "text/plain": [
              "                                 vid  gpsvalid  ...  engine_acc     city\n",
              "0        /Zj/M2Xz5uW1jUr3EJZwx07SUYE         1  ...           1  Bangkok\n",
              "1        avZbZZiOTZ4dltE/symL8WeJ5YQ         1  ...           1  Bangkok\n",
              "2        vtCX0mW0uUEqGiIiMwoeDLaPWI4         1  ...           1  Bangkok\n",
              "3        L5lLRWLfD2kID9bUcYv1W1Ivhyo         1  ...           1  Bangkok\n",
              "4        I+qBYDuuYwppA8mhB9tHgK8qgEo         1  ...           1  Bangkok\n",
              "...                              ...       ...  ...         ...      ...\n",
              "2495272  EvPgnx9e+fxfW921HxdF0U26BaI         1  ...           1  Bangkok\n",
              "2495273  Eiy+wXYL59TbKdGWBtKWcljFMhE         1  ...           0  Bangkok\n",
              "2495274  1zqQ5ggVcBrKOhN566Up8xF5PfY         1  ...           1  Bangkok\n",
              "2495275  a1W2s8z4+SLnU9qIdhabsYd4K6o         1  ...           0  Bangkok\n",
              "2495276  UXPVlJt7F6LdhyNrW1Y1DBXCXaU         1  ...           1  Bangkok\n",
              "\n",
              "[2495277 rows x 10 columns]"
            ]
          },
          "metadata": {
            "tags": []
          },
          "execution_count": 49
        }
      ]
    },
    {
      "cell_type": "code",
      "metadata": {
        "id": "MApTeZrbgY8B"
      },
      "source": [
        "filenames.sort()"
      ],
      "execution_count": null,
      "outputs": []
    },
    {
      "cell_type": "code",
      "metadata": {
        "colab": {
          "base_uri": "https://localhost:8080/"
        },
        "id": "4szWedSugdLU",
        "outputId": "18200b5a-84f4-406f-80b8-350a9bc3fb1f"
      },
      "source": [
        "filenames"
      ],
      "execution_count": null,
      "outputs": [
        {
          "output_type": "execute_result",
          "data": {
            "text/plain": [
              "['/content/drive/My Drive/Ming-Ham=ShipHai/ปี 3/DA/2018-12-25/2018-12-25.00.csv',\n",
              " '/content/drive/My Drive/Ming-Ham=ShipHai/ปี 3/DA/2018-12-25/2018-12-25.01.csv',\n",
              " '/content/drive/My Drive/Ming-Ham=ShipHai/ปี 3/DA/2018-12-25/2018-12-25.02.csv',\n",
              " '/content/drive/My Drive/Ming-Ham=ShipHai/ปี 3/DA/2018-12-25/2018-12-25.03.csv',\n",
              " '/content/drive/My Drive/Ming-Ham=ShipHai/ปี 3/DA/2018-12-25/2018-12-25.04.csv',\n",
              " '/content/drive/My Drive/Ming-Ham=ShipHai/ปี 3/DA/2018-12-25/2018-12-25.05.csv',\n",
              " '/content/drive/My Drive/Ming-Ham=ShipHai/ปี 3/DA/2018-12-25/2018-12-25.06.csv',\n",
              " '/content/drive/My Drive/Ming-Ham=ShipHai/ปี 3/DA/2018-12-25/2018-12-25.07.csv',\n",
              " '/content/drive/My Drive/Ming-Ham=ShipHai/ปี 3/DA/2018-12-25/2018-12-25.08.csv',\n",
              " '/content/drive/My Drive/Ming-Ham=ShipHai/ปี 3/DA/2018-12-25/2018-12-25.09.csv',\n",
              " '/content/drive/My Drive/Ming-Ham=ShipHai/ปี 3/DA/2018-12-25/2018-12-25.10.csv',\n",
              " '/content/drive/My Drive/Ming-Ham=ShipHai/ปี 3/DA/2018-12-25/2018-12-25.11.csv',\n",
              " '/content/drive/My Drive/Ming-Ham=ShipHai/ปี 3/DA/2018-12-25/2018-12-25.12.csv',\n",
              " '/content/drive/My Drive/Ming-Ham=ShipHai/ปี 3/DA/2018-12-25/2018-12-25.13.csv',\n",
              " '/content/drive/My Drive/Ming-Ham=ShipHai/ปี 3/DA/2018-12-25/2018-12-25.14.csv',\n",
              " '/content/drive/My Drive/Ming-Ham=ShipHai/ปี 3/DA/2018-12-25/2018-12-25.15.csv',\n",
              " '/content/drive/My Drive/Ming-Ham=ShipHai/ปี 3/DA/2018-12-25/2018-12-25.16.csv',\n",
              " '/content/drive/My Drive/Ming-Ham=ShipHai/ปี 3/DA/2018-12-25/2018-12-25.17.csv',\n",
              " '/content/drive/My Drive/Ming-Ham=ShipHai/ปี 3/DA/2018-12-25/2018-12-25.18.csv',\n",
              " '/content/drive/My Drive/Ming-Ham=ShipHai/ปี 3/DA/2018-12-25/2018-12-25.19.csv',\n",
              " '/content/drive/My Drive/Ming-Ham=ShipHai/ปี 3/DA/2018-12-25/2018-12-25.20.csv',\n",
              " '/content/drive/My Drive/Ming-Ham=ShipHai/ปี 3/DA/2018-12-25/2018-12-25.21.csv',\n",
              " '/content/drive/My Drive/Ming-Ham=ShipHai/ปี 3/DA/2018-12-25/2018-12-25.22.csv',\n",
              " '/content/drive/My Drive/Ming-Ham=ShipHai/ปี 3/DA/2018-12-25/2018-12-25.23.csv']"
            ]
          },
          "metadata": {
            "tags": []
          },
          "execution_count": 75
        }
      ]
    },
    {
      "cell_type": "code",
      "metadata": {
        "id": "bikVVdtXc6aN"
      },
      "source": [
        "count_taxi_per_hour = []\r\n",
        "for filename in filenames:\r\n",
        "  df = pd.read_csv(filename)\r\n",
        "  count_taxi_per_hour.append(len(df['vid'].unique()))"
      ],
      "execution_count": null,
      "outputs": []
    },
    {
      "cell_type": "code",
      "metadata": {
        "colab": {
          "base_uri": "https://localhost:8080/"
        },
        "id": "iQSKTImSduqW",
        "outputId": "d9139470-7ab0-41b1-dc9b-24de8b289381"
      },
      "source": [
        "len(count_taxi_per_hour)"
      ],
      "execution_count": null,
      "outputs": [
        {
          "output_type": "execute_result",
          "data": {
            "text/plain": [
              "24"
            ]
          },
          "metadata": {
            "tags": []
          },
          "execution_count": 60
        }
      ]
    },
    {
      "cell_type": "code",
      "metadata": {
        "colab": {
          "base_uri": "https://localhost:8080/"
        },
        "id": "vyyCRyp3d2lA",
        "outputId": "21267236-f668-49bd-a49e-795c489403e6"
      },
      "source": [
        "max(count_taxi_per_hour)"
      ],
      "execution_count": null,
      "outputs": [
        {
          "output_type": "execute_result",
          "data": {
            "text/plain": [
              "4009"
            ]
          },
          "metadata": {
            "tags": []
          },
          "execution_count": 77
        }
      ]
    },
    {
      "cell_type": "code",
      "metadata": {
        "colab": {
          "base_uri": "https://localhost:8080/"
        },
        "id": "_kMmWRz4gPfp",
        "outputId": "e76726f7-1991-43ce-c0fa-6af2d39577f3"
      },
      "source": [
        "for i in range(len(count_taxi_per_hour)):\r\n",
        "  if count_taxi_per_hour[i] == max(count_taxi_per_hour):\r\n",
        "    print(i)"
      ],
      "execution_count": null,
      "outputs": [
        {
          "output_type": "stream",
          "text": [
            "14\n"
          ],
          "name": "stdout"
        }
      ]
    },
    {
      "cell_type": "code",
      "metadata": {
        "colab": {
          "base_uri": "https://localhost:8080/"
        },
        "id": "p62sKroneaLg",
        "outputId": "2fe658ce-95b3-4cee-cc03-69b8afd9d083"
      },
      "source": [
        "count_taxi_per_hour"
      ],
      "execution_count": null,
      "outputs": [
        {
          "output_type": "execute_result",
          "data": {
            "text/plain": [
              "[3964,\n",
              " 3367,\n",
              " 3334,\n",
              " 3931,\n",
              " 3415,\n",
              " 3988,\n",
              " 4009,\n",
              " 3507,\n",
              " 3364,\n",
              " 3855,\n",
              " 3872,\n",
              " 3485,\n",
              " 3957,\n",
              " 3726,\n",
              " 3616,\n",
              " 3928,\n",
              " 3661,\n",
              " 3742,\n",
              " 3739,\n",
              " 3930,\n",
              " 3820,\n",
              " 3818,\n",
              " 3969,\n",
              " 3912]"
            ]
          },
          "metadata": {
            "tags": []
          },
          "execution_count": 65
        }
      ]
    }
  ]
}