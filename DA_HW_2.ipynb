{
  "nbformat": 4,
  "nbformat_minor": 0,
  "metadata": {
    "colab": {
      "name": "DA-HW-2.ipynb",
      "provenance": [],
      "collapsed_sections": [],
      "authorship_tag": "ABX9TyOAwZGDqWrYybDnhEkCdRrT",
      "include_colab_link": true
    },
    "kernelspec": {
      "name": "python3",
      "display_name": "Python 3"
    }
  },
  "cells": [
    {
      "cell_type": "markdown",
      "metadata": {
        "id": "view-in-github",
        "colab_type": "text"
      },
      "source": [
        "<a href=\"https://colab.research.google.com/github/Thanawich-Pinprayoon/INTRODUCTION-TO-DATA-ANALYTICS/blob/main/DA_HW_2.ipynb\" target=\"_parent\"><img src=\"https://colab.research.google.com/assets/colab-badge.svg\" alt=\"Open In Colab\"/></a>"
      ]
    },
    {
      "cell_type": "markdown",
      "metadata": {
        "id": "Bng_n3peABp_"
      },
      "source": [
        "##ฝึกมือกันหน่อยครับ !!!\r\n",
        "\r\n",
        "จาก dataset ต่อไปนี้\r\n",
        "\r\n",
        "https://docs.google.com/spreadsheets/u/1/d/e/2PACX-1vRIFbIywXecgxN5c1sMn_KYWsARoXgp4paFxu4qndPaX_47vRaOdrqmiHjtNZ9ZYQcv3ubMSv8DA9ta/pub?gid=1546938151&single=true (Links to an external site.)\r\n",
        "\r\n",
        " \r\n",
        "\r\n",
        "จงพิมพ์ code ส่งตามคำสั่งต่อไปนี้ (ให้ copy โจทย์ด้วย)\r\n",
        "โดยที่ ตัวแปรของ dataframe นี้คือ df \r\n",
        "ให้ใช้ library เพียง numpy กับ pandas เท่านั้น"
      ]
    },
    {
      "cell_type": "code",
      "metadata": {
        "id": "Ll151Wg6N3LB"
      },
      "source": [
        "import numpy as np"
      ],
      "execution_count": null,
      "outputs": []
    },
    {
      "cell_type": "code",
      "metadata": {
        "id": "g3nUyUlXN914"
      },
      "source": [
        "import pandas as pd"
      ],
      "execution_count": null,
      "outputs": []
    },
    {
      "cell_type": "code",
      "metadata": {
        "id": "GzAwb8WUOICf"
      },
      "source": [
        "df = pd.DataFrame( #ใช้ CSV PATH จากลิ้งค์กะได้\r\n",
        "                            {\r\n",
        "                            'eid':['E011','E012','E013','E014','E015','E016','E017','E018'],\r\n",
        "                            'Name':['Anda','Bordin','Chantana','Donlaya','Ekkasit','Fundee','Gitiwit','Harit'],\r\n",
        "                            'gender':['female','male','female','female','male','female','male','male'],\r\n",
        "                            'department':['developer','developer','developer','marketing','marketing','support','support','devops'],\r\n",
        "                            'age':[39,25,29,39,37,35,26,32],\r\n",
        "                            'salary':[64200.00,48700.00,45500.00,72600.00,80500.00,56600.00,42400.00,67700.00],\r\n",
        "                            'working_years':[4,2,3,8,7,3,2,5],\r\n",
        "                            'birth_place':['Bangkok','Phuket','Chonburi','Chonburi','Suphanburi','Phuket','Suphanburi','Bangkok']\r\n",
        "                            }\r\n",
        "                          )"
      ],
      "execution_count": null,
      "outputs": []
    },
    {
      "cell_type": "code",
      "metadata": {
        "colab": {
          "base_uri": "https://localhost:8080/",
          "height": 294
        },
        "id": "zg0I79D_PgtX",
        "outputId": "53df7794-315e-4b87-f0a2-12c1b3f07992"
      },
      "source": [
        "df"
      ],
      "execution_count": null,
      "outputs": [
        {
          "output_type": "execute_result",
          "data": {
            "text/html": [
              "<div>\n",
              "<style scoped>\n",
              "    .dataframe tbody tr th:only-of-type {\n",
              "        vertical-align: middle;\n",
              "    }\n",
              "\n",
              "    .dataframe tbody tr th {\n",
              "        vertical-align: top;\n",
              "    }\n",
              "\n",
              "    .dataframe thead th {\n",
              "        text-align: right;\n",
              "    }\n",
              "</style>\n",
              "<table border=\"1\" class=\"dataframe\">\n",
              "  <thead>\n",
              "    <tr style=\"text-align: right;\">\n",
              "      <th></th>\n",
              "      <th>eid</th>\n",
              "      <th>Name</th>\n",
              "      <th>gender</th>\n",
              "      <th>department</th>\n",
              "      <th>age</th>\n",
              "      <th>salary</th>\n",
              "      <th>working_years</th>\n",
              "      <th>birth_place</th>\n",
              "    </tr>\n",
              "  </thead>\n",
              "  <tbody>\n",
              "    <tr>\n",
              "      <th>0</th>\n",
              "      <td>E011</td>\n",
              "      <td>Anda</td>\n",
              "      <td>female</td>\n",
              "      <td>developer</td>\n",
              "      <td>39</td>\n",
              "      <td>64200.0</td>\n",
              "      <td>4</td>\n",
              "      <td>Bangkok</td>\n",
              "    </tr>\n",
              "    <tr>\n",
              "      <th>1</th>\n",
              "      <td>E012</td>\n",
              "      <td>Bordin</td>\n",
              "      <td>male</td>\n",
              "      <td>developer</td>\n",
              "      <td>25</td>\n",
              "      <td>48700.0</td>\n",
              "      <td>2</td>\n",
              "      <td>Phuket</td>\n",
              "    </tr>\n",
              "    <tr>\n",
              "      <th>2</th>\n",
              "      <td>E013</td>\n",
              "      <td>Chantana</td>\n",
              "      <td>female</td>\n",
              "      <td>developer</td>\n",
              "      <td>29</td>\n",
              "      <td>45500.0</td>\n",
              "      <td>3</td>\n",
              "      <td>Chonburi</td>\n",
              "    </tr>\n",
              "    <tr>\n",
              "      <th>3</th>\n",
              "      <td>E014</td>\n",
              "      <td>Donlaya</td>\n",
              "      <td>female</td>\n",
              "      <td>marketing</td>\n",
              "      <td>39</td>\n",
              "      <td>72600.0</td>\n",
              "      <td>8</td>\n",
              "      <td>Chonburi</td>\n",
              "    </tr>\n",
              "    <tr>\n",
              "      <th>4</th>\n",
              "      <td>E015</td>\n",
              "      <td>Ekkasit</td>\n",
              "      <td>male</td>\n",
              "      <td>marketing</td>\n",
              "      <td>37</td>\n",
              "      <td>80500.0</td>\n",
              "      <td>7</td>\n",
              "      <td>Suphanburi</td>\n",
              "    </tr>\n",
              "    <tr>\n",
              "      <th>5</th>\n",
              "      <td>E016</td>\n",
              "      <td>Fundee</td>\n",
              "      <td>female</td>\n",
              "      <td>support</td>\n",
              "      <td>35</td>\n",
              "      <td>56600.0</td>\n",
              "      <td>3</td>\n",
              "      <td>Phuket</td>\n",
              "    </tr>\n",
              "    <tr>\n",
              "      <th>6</th>\n",
              "      <td>E017</td>\n",
              "      <td>Gitiwit</td>\n",
              "      <td>male</td>\n",
              "      <td>support</td>\n",
              "      <td>26</td>\n",
              "      <td>42400.0</td>\n",
              "      <td>2</td>\n",
              "      <td>Suphanburi</td>\n",
              "    </tr>\n",
              "    <tr>\n",
              "      <th>7</th>\n",
              "      <td>E018</td>\n",
              "      <td>Harit</td>\n",
              "      <td>male</td>\n",
              "      <td>devops</td>\n",
              "      <td>32</td>\n",
              "      <td>67700.0</td>\n",
              "      <td>5</td>\n",
              "      <td>Bangkok</td>\n",
              "    </tr>\n",
              "  </tbody>\n",
              "</table>\n",
              "</div>"
            ],
            "text/plain": [
              "    eid      Name  gender department  age   salary  working_years birth_place\n",
              "0  E011      Anda  female  developer   39  64200.0              4     Bangkok\n",
              "1  E012    Bordin    male  developer   25  48700.0              2      Phuket\n",
              "2  E013  Chantana  female  developer   29  45500.0              3    Chonburi\n",
              "3  E014   Donlaya  female  marketing   39  72600.0              8    Chonburi\n",
              "4  E015   Ekkasit    male  marketing   37  80500.0              7  Suphanburi\n",
              "5  E016    Fundee  female    support   35  56600.0              3      Phuket\n",
              "6  E017   Gitiwit    male    support   26  42400.0              2  Suphanburi\n",
              "7  E018     Harit    male     devops   32  67700.0              5     Bangkok"
            ]
          },
          "metadata": {
            "tags": []
          },
          "execution_count": 4
        }
      ]
    },
    {
      "cell_type": "markdown",
      "metadata": {
        "id": "pME8KQxW_5Dp"
      },
      "source": [
        "#จงสร้างคอลัมภ์ \"extra_salary\" เพื่อเพิ่มเงินเดือนให้แต่ละแผนก\r\n",
        "โดย ถ้าเป็น developer ให้ คูณ 0.2, แต่แผนกอื่นให้คูณ 0.5\r\n",
        "ให้ใช้เฉพาะคำสั่ง apply กับ lambda เท่านั้น \r\n"
      ]
    },
    {
      "cell_type": "code",
      "metadata": {
        "id": "EnHEId6NhpNS"
      },
      "source": [
        "df['extra_salary'] = df.apply(lambda x: x['salary']*0.2 if x['department'] is  'developer' else x['salary']*0.5,axis=1)"
      ],
      "execution_count": null,
      "outputs": []
    },
    {
      "cell_type": "code",
      "metadata": {
        "id": "uvNIWA3d8abP"
      },
      "source": [
        "df[\"extra_salary\"] = df['salary']*df['department'].apply(lambda x: 0.2 if x == 'developer' else 0.5)"
      ],
      "execution_count": null,
      "outputs": []
    },
    {
      "cell_type": "code",
      "metadata": {
        "id": "f4CQp2daAXps"
      },
      "source": [
        "if x == 'developer':\r\n",
        "  return 0.2\r\n",
        "else:\r\n",
        "  return 0.5"
      ],
      "execution_count": null,
      "outputs": []
    },
    {
      "cell_type": "code",
      "metadata": {
        "colab": {
          "base_uri": "https://localhost:8080/",
          "height": 287
        },
        "id": "HGhZpUct28zt",
        "outputId": "41938eaa-90aa-43e7-b79d-1731481ba043"
      },
      "source": [
        "df"
      ],
      "execution_count": null,
      "outputs": [
        {
          "output_type": "execute_result",
          "data": {
            "text/html": [
              "<div>\n",
              "<style scoped>\n",
              "    .dataframe tbody tr th:only-of-type {\n",
              "        vertical-align: middle;\n",
              "    }\n",
              "\n",
              "    .dataframe tbody tr th {\n",
              "        vertical-align: top;\n",
              "    }\n",
              "\n",
              "    .dataframe thead th {\n",
              "        text-align: right;\n",
              "    }\n",
              "</style>\n",
              "<table border=\"1\" class=\"dataframe\">\n",
              "  <thead>\n",
              "    <tr style=\"text-align: right;\">\n",
              "      <th></th>\n",
              "      <th>eid</th>\n",
              "      <th>Name</th>\n",
              "      <th>gender</th>\n",
              "      <th>department</th>\n",
              "      <th>age</th>\n",
              "      <th>salary</th>\n",
              "      <th>working_years</th>\n",
              "      <th>birth_place</th>\n",
              "      <th>extra_salary</th>\n",
              "      <th>name_with_age</th>\n",
              "    </tr>\n",
              "  </thead>\n",
              "  <tbody>\n",
              "    <tr>\n",
              "      <th>0</th>\n",
              "      <td>E011</td>\n",
              "      <td>Anda</td>\n",
              "      <td>female</td>\n",
              "      <td>developer</td>\n",
              "      <td>39</td>\n",
              "      <td>64200.0</td>\n",
              "      <td>4</td>\n",
              "      <td>Bangkok</td>\n",
              "      <td>12840.0</td>\n",
              "      <td>Anda(39)</td>\n",
              "    </tr>\n",
              "    <tr>\n",
              "      <th>1</th>\n",
              "      <td>E012</td>\n",
              "      <td>Bordin</td>\n",
              "      <td>male</td>\n",
              "      <td>developer</td>\n",
              "      <td>25</td>\n",
              "      <td>48700.0</td>\n",
              "      <td>2</td>\n",
              "      <td>Phuket</td>\n",
              "      <td>9740.0</td>\n",
              "      <td>Bordin(25)</td>\n",
              "    </tr>\n",
              "    <tr>\n",
              "      <th>2</th>\n",
              "      <td>E013</td>\n",
              "      <td>Chantana</td>\n",
              "      <td>female</td>\n",
              "      <td>developer</td>\n",
              "      <td>29</td>\n",
              "      <td>45500.0</td>\n",
              "      <td>3</td>\n",
              "      <td>Chonburi</td>\n",
              "      <td>9100.0</td>\n",
              "      <td>Chantana(29)</td>\n",
              "    </tr>\n",
              "    <tr>\n",
              "      <th>3</th>\n",
              "      <td>E014</td>\n",
              "      <td>Donlaya</td>\n",
              "      <td>female</td>\n",
              "      <td>marketing</td>\n",
              "      <td>39</td>\n",
              "      <td>72600.0</td>\n",
              "      <td>8</td>\n",
              "      <td>Chonburi</td>\n",
              "      <td>36300.0</td>\n",
              "      <td>Donlaya(39)</td>\n",
              "    </tr>\n",
              "    <tr>\n",
              "      <th>4</th>\n",
              "      <td>E015</td>\n",
              "      <td>Ekkasit</td>\n",
              "      <td>male</td>\n",
              "      <td>marketing</td>\n",
              "      <td>37</td>\n",
              "      <td>80500.0</td>\n",
              "      <td>7</td>\n",
              "      <td>Suphanburi</td>\n",
              "      <td>40250.0</td>\n",
              "      <td>Ekkasit(37)</td>\n",
              "    </tr>\n",
              "    <tr>\n",
              "      <th>5</th>\n",
              "      <td>E016</td>\n",
              "      <td>Fundee</td>\n",
              "      <td>female</td>\n",
              "      <td>support</td>\n",
              "      <td>35</td>\n",
              "      <td>56600.0</td>\n",
              "      <td>3</td>\n",
              "      <td>Phuket</td>\n",
              "      <td>28300.0</td>\n",
              "      <td>Fundee(35)</td>\n",
              "    </tr>\n",
              "    <tr>\n",
              "      <th>6</th>\n",
              "      <td>E017</td>\n",
              "      <td>Gitiwit</td>\n",
              "      <td>male</td>\n",
              "      <td>support</td>\n",
              "      <td>26</td>\n",
              "      <td>42400.0</td>\n",
              "      <td>2</td>\n",
              "      <td>Suphanburi</td>\n",
              "      <td>21200.0</td>\n",
              "      <td>Gitiwit(26)</td>\n",
              "    </tr>\n",
              "    <tr>\n",
              "      <th>7</th>\n",
              "      <td>E018</td>\n",
              "      <td>Harit</td>\n",
              "      <td>male</td>\n",
              "      <td>devops</td>\n",
              "      <td>32</td>\n",
              "      <td>67700.0</td>\n",
              "      <td>5</td>\n",
              "      <td>Bangkok</td>\n",
              "      <td>33850.0</td>\n",
              "      <td>Harit(32)</td>\n",
              "    </tr>\n",
              "  </tbody>\n",
              "</table>\n",
              "</div>"
            ],
            "text/plain": [
              "    eid      Name  gender  ... birth_place  extra_salary  name_with_age\n",
              "0  E011      Anda  female  ...     Bangkok       12840.0       Anda(39)\n",
              "1  E012    Bordin    male  ...      Phuket        9740.0     Bordin(25)\n",
              "2  E013  Chantana  female  ...    Chonburi        9100.0   Chantana(29)\n",
              "3  E014   Donlaya  female  ...    Chonburi       36300.0    Donlaya(39)\n",
              "4  E015   Ekkasit    male  ...  Suphanburi       40250.0    Ekkasit(37)\n",
              "5  E016    Fundee  female  ...      Phuket       28300.0     Fundee(35)\n",
              "6  E017   Gitiwit    male  ...  Suphanburi       21200.0    Gitiwit(26)\n",
              "7  E018     Harit    male  ...     Bangkok       33850.0      Harit(32)\n",
              "\n",
              "[8 rows x 10 columns]"
            ]
          },
          "metadata": {
            "tags": []
          },
          "execution_count": 127
        }
      ]
    },
    {
      "cell_type": "code",
      "metadata": {
        "colab": {
          "base_uri": "https://localhost:8080/"
        },
        "id": "pWYT31XxDBQ4",
        "outputId": "2e394f14-ce7b-4d0d-a252-5794cd2bff99"
      },
      "source": [
        "df.tail(1).index[-1]"
      ],
      "execution_count": null,
      "outputs": [
        {
          "output_type": "execute_result",
          "data": {
            "text/plain": [
              "7"
            ]
          },
          "metadata": {
            "tags": []
          },
          "execution_count": 25
        }
      ]
    },
    {
      "cell_type": "markdown",
      "metadata": {
        "id": "hLBta4Ws_7Ln"
      },
      "source": [
        "#จงหาจำนวน sample ของข้อมูลชุดนี้ (จำนวน rows)"
      ]
    },
    {
      "cell_type": "code",
      "metadata": {
        "colab": {
          "base_uri": "https://localhost:8080/"
        },
        "id": "xczo6pVQ87E-",
        "outputId": "a90caa93-a324-4e5b-f69a-5a45e3f7a61b"
      },
      "source": [
        "len(df)"
      ],
      "execution_count": null,
      "outputs": [
        {
          "output_type": "execute_result",
          "data": {
            "text/plain": [
              "8"
            ]
          },
          "metadata": {
            "tags": []
          },
          "execution_count": 54
        }
      ]
    },
    {
      "cell_type": "code",
      "metadata": {
        "colab": {
          "base_uri": "https://localhost:8080/"
        },
        "id": "R9uNnVrC89aT",
        "outputId": "fd966b39-bbed-4d27-aabc-4c7684aac423"
      },
      "source": [
        "int(df.size)"
      ],
      "execution_count": null,
      "outputs": [
        {
          "output_type": "execute_result",
          "data": {
            "text/plain": [
              "72"
            ]
          },
          "metadata": {
            "tags": []
          },
          "execution_count": 55
        }
      ]
    },
    {
      "cell_type": "code",
      "metadata": {
        "colab": {
          "base_uri": "https://localhost:8080/"
        },
        "id": "Tx-thPvb9jh_",
        "outputId": "4192b0fa-d637-4a54-dc4f-f9fb9913bda8"
      },
      "source": [
        "df.shape[0]"
      ],
      "execution_count": null,
      "outputs": [
        {
          "output_type": "execute_result",
          "data": {
            "text/plain": [
              "8"
            ]
          },
          "metadata": {
            "tags": []
          },
          "execution_count": 56
        }
      ]
    },
    {
      "cell_type": "code",
      "metadata": {
        "colab": {
          "base_uri": "https://localhost:8080/"
        },
        "id": "VJI2Ny-f94OT",
        "outputId": "2bf3ff36-ad08-4385-d137-9a6341f1c620"
      },
      "source": [
        "type(df.shape)"
      ],
      "execution_count": null,
      "outputs": [
        {
          "output_type": "execute_result",
          "data": {
            "text/plain": [
              "tuple"
            ]
          },
          "metadata": {
            "tags": []
          },
          "execution_count": 57
        }
      ]
    },
    {
      "cell_type": "code",
      "metadata": {
        "colab": {
          "base_uri": "https://localhost:8080/"
        },
        "id": "lNdhSzY5-Dgj",
        "outputId": "2e2ccae9-6795-4267-f26f-2b94d7bdb89c"
      },
      "source": [
        "int(float(df.size)//float(df.shape[1]))"
      ],
      "execution_count": null,
      "outputs": [
        {
          "output_type": "execute_result",
          "data": {
            "text/plain": [
              "8"
            ]
          },
          "metadata": {
            "tags": []
          },
          "execution_count": 129
        }
      ]
    },
    {
      "cell_type": "markdown",
      "metadata": {
        "id": "of3C8H_9AIEN"
      },
      "source": [
        "#จงสร้างคอลัมภ์ \"name_with_age\" ให้แสดงผลเป็น ชื่อ วงเล็บอายุ เช่น \"Anda (39)\"\r\n",
        "โดยห้ามใช้ apply กับ lambda เด็ดขาด"
      ]
    },
    {
      "cell_type": "code",
      "metadata": {
        "id": "ITgA2cUa_qtZ"
      },
      "source": [
        "df['name_with_age'] = df['Name']+'(' + df['age'].map(str) + ')'"
      ],
      "execution_count": null,
      "outputs": []
    },
    {
      "cell_type": "code",
      "metadata": {
        "id": "VLpZAreQBW4C"
      },
      "source": [
        "df['name_with_age'] = df['name']+str(\"(\")+df['age'].astype(str)+str(\")\")"
      ],
      "execution_count": null,
      "outputs": []
    },
    {
      "cell_type": "code",
      "metadata": {
        "colab": {
          "base_uri": "https://localhost:8080/",
          "height": 287
        },
        "id": "oqE6UdpNBRyj",
        "outputId": "708ed729-81b3-4ac4-e6dd-0a46e7afe224"
      },
      "source": [
        "df"
      ],
      "execution_count": null,
      "outputs": [
        {
          "output_type": "execute_result",
          "data": {
            "text/html": [
              "<div>\n",
              "<style scoped>\n",
              "    .dataframe tbody tr th:only-of-type {\n",
              "        vertical-align: middle;\n",
              "    }\n",
              "\n",
              "    .dataframe tbody tr th {\n",
              "        vertical-align: top;\n",
              "    }\n",
              "\n",
              "    .dataframe thead th {\n",
              "        text-align: right;\n",
              "    }\n",
              "</style>\n",
              "<table border=\"1\" class=\"dataframe\">\n",
              "  <thead>\n",
              "    <tr style=\"text-align: right;\">\n",
              "      <th></th>\n",
              "      <th>eid</th>\n",
              "      <th>Name</th>\n",
              "      <th>gender</th>\n",
              "      <th>department</th>\n",
              "      <th>age</th>\n",
              "      <th>salary</th>\n",
              "      <th>working_years</th>\n",
              "      <th>birth_place</th>\n",
              "      <th>extra_salary</th>\n",
              "      <th>name_with_age</th>\n",
              "    </tr>\n",
              "  </thead>\n",
              "  <tbody>\n",
              "    <tr>\n",
              "      <th>0</th>\n",
              "      <td>E011</td>\n",
              "      <td>Anda</td>\n",
              "      <td>female</td>\n",
              "      <td>developer</td>\n",
              "      <td>39</td>\n",
              "      <td>64200.0</td>\n",
              "      <td>4</td>\n",
              "      <td>Bangkok</td>\n",
              "      <td>12840.0</td>\n",
              "      <td>Anda(39)</td>\n",
              "    </tr>\n",
              "    <tr>\n",
              "      <th>1</th>\n",
              "      <td>E012</td>\n",
              "      <td>Bordin</td>\n",
              "      <td>male</td>\n",
              "      <td>developer</td>\n",
              "      <td>25</td>\n",
              "      <td>48700.0</td>\n",
              "      <td>2</td>\n",
              "      <td>Phuket</td>\n",
              "      <td>9740.0</td>\n",
              "      <td>Bordin(25)</td>\n",
              "    </tr>\n",
              "    <tr>\n",
              "      <th>2</th>\n",
              "      <td>E013</td>\n",
              "      <td>Chantana</td>\n",
              "      <td>female</td>\n",
              "      <td>developer</td>\n",
              "      <td>29</td>\n",
              "      <td>45500.0</td>\n",
              "      <td>3</td>\n",
              "      <td>Chonburi</td>\n",
              "      <td>9100.0</td>\n",
              "      <td>Chantana(29)</td>\n",
              "    </tr>\n",
              "    <tr>\n",
              "      <th>3</th>\n",
              "      <td>E014</td>\n",
              "      <td>Donlaya</td>\n",
              "      <td>female</td>\n",
              "      <td>marketing</td>\n",
              "      <td>39</td>\n",
              "      <td>72600.0</td>\n",
              "      <td>8</td>\n",
              "      <td>Chonburi</td>\n",
              "      <td>36300.0</td>\n",
              "      <td>Donlaya(39)</td>\n",
              "    </tr>\n",
              "    <tr>\n",
              "      <th>4</th>\n",
              "      <td>E015</td>\n",
              "      <td>Ekkasit</td>\n",
              "      <td>male</td>\n",
              "      <td>marketing</td>\n",
              "      <td>37</td>\n",
              "      <td>80500.0</td>\n",
              "      <td>7</td>\n",
              "      <td>Suphanburi</td>\n",
              "      <td>40250.0</td>\n",
              "      <td>Ekkasit(37)</td>\n",
              "    </tr>\n",
              "    <tr>\n",
              "      <th>5</th>\n",
              "      <td>E016</td>\n",
              "      <td>Fundee</td>\n",
              "      <td>female</td>\n",
              "      <td>support</td>\n",
              "      <td>35</td>\n",
              "      <td>56600.0</td>\n",
              "      <td>3</td>\n",
              "      <td>Phuket</td>\n",
              "      <td>28300.0</td>\n",
              "      <td>Fundee(35)</td>\n",
              "    </tr>\n",
              "    <tr>\n",
              "      <th>6</th>\n",
              "      <td>E017</td>\n",
              "      <td>Gitiwit</td>\n",
              "      <td>male</td>\n",
              "      <td>support</td>\n",
              "      <td>26</td>\n",
              "      <td>42400.0</td>\n",
              "      <td>2</td>\n",
              "      <td>Suphanburi</td>\n",
              "      <td>21200.0</td>\n",
              "      <td>Gitiwit(26)</td>\n",
              "    </tr>\n",
              "    <tr>\n",
              "      <th>7</th>\n",
              "      <td>E018</td>\n",
              "      <td>Harit</td>\n",
              "      <td>male</td>\n",
              "      <td>devops</td>\n",
              "      <td>32</td>\n",
              "      <td>67700.0</td>\n",
              "      <td>5</td>\n",
              "      <td>Bangkok</td>\n",
              "      <td>33850.0</td>\n",
              "      <td>Harit(32)</td>\n",
              "    </tr>\n",
              "  </tbody>\n",
              "</table>\n",
              "</div>"
            ],
            "text/plain": [
              "    eid      Name  gender  ... birth_place  extra_salary  name_with_age\n",
              "0  E011      Anda  female  ...     Bangkok       12840.0       Anda(39)\n",
              "1  E012    Bordin    male  ...      Phuket        9740.0     Bordin(25)\n",
              "2  E013  Chantana  female  ...    Chonburi        9100.0   Chantana(29)\n",
              "3  E014   Donlaya  female  ...    Chonburi       36300.0    Donlaya(39)\n",
              "4  E015   Ekkasit    male  ...  Suphanburi       40250.0    Ekkasit(37)\n",
              "5  E016    Fundee  female  ...      Phuket       28300.0     Fundee(35)\n",
              "6  E017   Gitiwit    male  ...  Suphanburi       21200.0    Gitiwit(26)\n",
              "7  E018     Harit    male  ...     Bangkok       33850.0      Harit(32)\n",
              "\n",
              "[8 rows x 10 columns]"
            ]
          },
          "metadata": {
            "tags": []
          },
          "execution_count": 61
        }
      ]
    },
    {
      "cell_type": "markdown",
      "metadata": {
        "id": "q3UaqAlsBpuu"
      },
      "source": [
        "#จงหาว่า แผนกใดที่ให้เงินเดือนเฉลี่ยของผู้หญิงสูงที่สุด"
      ]
    },
    {
      "cell_type": "code",
      "metadata": {
        "id": "M5ZokU4PBqbN"
      },
      "source": [
        "df2 = pd.DataFrame({'col1': [np.array([[1.,3.],[4.,2.]]), np.array([[1.,1.],[3.,2.]])],\r\n",
        "                   'col2': [np.array([[1.,3.],[3.,3.]]), np.array([[2.,3.],[3.,1.]])]})"
      ],
      "execution_count": null,
      "outputs": []
    },
    {
      "cell_type": "code",
      "metadata": {
        "colab": {
          "base_uri": "https://localhost:8080/",
          "height": 107
        },
        "id": "0mBXmEFSDHRY",
        "outputId": "b0495c32-0fec-40be-8a8e-f750f474c453"
      },
      "source": [
        "df2"
      ],
      "execution_count": null,
      "outputs": [
        {
          "output_type": "execute_result",
          "data": {
            "text/html": [
              "<div>\n",
              "<style scoped>\n",
              "    .dataframe tbody tr th:only-of-type {\n",
              "        vertical-align: middle;\n",
              "    }\n",
              "\n",
              "    .dataframe tbody tr th {\n",
              "        vertical-align: top;\n",
              "    }\n",
              "\n",
              "    .dataframe thead th {\n",
              "        text-align: right;\n",
              "    }\n",
              "</style>\n",
              "<table border=\"1\" class=\"dataframe\">\n",
              "  <thead>\n",
              "    <tr style=\"text-align: right;\">\n",
              "      <th></th>\n",
              "      <th>col1</th>\n",
              "      <th>col2</th>\n",
              "    </tr>\n",
              "  </thead>\n",
              "  <tbody>\n",
              "    <tr>\n",
              "      <th>0</th>\n",
              "      <td>[[1.0, 3.0], [4.0, 2.0]]</td>\n",
              "      <td>[[1.0, 3.0], [3.0, 3.0]]</td>\n",
              "    </tr>\n",
              "    <tr>\n",
              "      <th>1</th>\n",
              "      <td>[[1.0, 1.0], [3.0, 2.0]]</td>\n",
              "      <td>[[2.0, 3.0], [3.0, 1.0]]</td>\n",
              "    </tr>\n",
              "  </tbody>\n",
              "</table>\n",
              "</div>"
            ],
            "text/plain": [
              "                       col1                      col2\n",
              "0  [[1.0, 3.0], [4.0, 2.0]]  [[1.0, 3.0], [3.0, 3.0]]\n",
              "1  [[1.0, 1.0], [3.0, 2.0]]  [[2.0, 3.0], [3.0, 1.0]]"
            ]
          },
          "metadata": {
            "tags": []
          },
          "execution_count": 65
        }
      ]
    },
    {
      "cell_type": "code",
      "metadata": {
        "colab": {
          "base_uri": "https://localhost:8080/",
          "height": 287
        },
        "id": "dNKJz4MTDsxE",
        "outputId": "ee9f9a99-e47f-42e9-d477-054753cd8de0"
      },
      "source": [
        "df"
      ],
      "execution_count": null,
      "outputs": [
        {
          "output_type": "execute_result",
          "data": {
            "text/html": [
              "<div>\n",
              "<style scoped>\n",
              "    .dataframe tbody tr th:only-of-type {\n",
              "        vertical-align: middle;\n",
              "    }\n",
              "\n",
              "    .dataframe tbody tr th {\n",
              "        vertical-align: top;\n",
              "    }\n",
              "\n",
              "    .dataframe thead th {\n",
              "        text-align: right;\n",
              "    }\n",
              "</style>\n",
              "<table border=\"1\" class=\"dataframe\">\n",
              "  <thead>\n",
              "    <tr style=\"text-align: right;\">\n",
              "      <th></th>\n",
              "      <th>eid</th>\n",
              "      <th>Name</th>\n",
              "      <th>gender</th>\n",
              "      <th>department</th>\n",
              "      <th>age</th>\n",
              "      <th>salary</th>\n",
              "      <th>working_years</th>\n",
              "      <th>birth_place</th>\n",
              "      <th>extra_salary</th>\n",
              "      <th>name_with_age</th>\n",
              "    </tr>\n",
              "  </thead>\n",
              "  <tbody>\n",
              "    <tr>\n",
              "      <th>0</th>\n",
              "      <td>E011</td>\n",
              "      <td>Anda</td>\n",
              "      <td>female</td>\n",
              "      <td>developer</td>\n",
              "      <td>39</td>\n",
              "      <td>64200.0</td>\n",
              "      <td>4</td>\n",
              "      <td>Bangkok</td>\n",
              "      <td>12840.0</td>\n",
              "      <td>Anda(39)</td>\n",
              "    </tr>\n",
              "    <tr>\n",
              "      <th>1</th>\n",
              "      <td>E012</td>\n",
              "      <td>Bordin</td>\n",
              "      <td>male</td>\n",
              "      <td>developer</td>\n",
              "      <td>25</td>\n",
              "      <td>48700.0</td>\n",
              "      <td>2</td>\n",
              "      <td>Phuket</td>\n",
              "      <td>9740.0</td>\n",
              "      <td>Bordin(25)</td>\n",
              "    </tr>\n",
              "    <tr>\n",
              "      <th>2</th>\n",
              "      <td>E013</td>\n",
              "      <td>Chantana</td>\n",
              "      <td>female</td>\n",
              "      <td>developer</td>\n",
              "      <td>29</td>\n",
              "      <td>45500.0</td>\n",
              "      <td>3</td>\n",
              "      <td>Chonburi</td>\n",
              "      <td>9100.0</td>\n",
              "      <td>Chantana(29)</td>\n",
              "    </tr>\n",
              "    <tr>\n",
              "      <th>3</th>\n",
              "      <td>E014</td>\n",
              "      <td>Donlaya</td>\n",
              "      <td>female</td>\n",
              "      <td>marketing</td>\n",
              "      <td>39</td>\n",
              "      <td>72600.0</td>\n",
              "      <td>8</td>\n",
              "      <td>Chonburi</td>\n",
              "      <td>36300.0</td>\n",
              "      <td>Donlaya(39)</td>\n",
              "    </tr>\n",
              "    <tr>\n",
              "      <th>4</th>\n",
              "      <td>E015</td>\n",
              "      <td>Ekkasit</td>\n",
              "      <td>male</td>\n",
              "      <td>marketing</td>\n",
              "      <td>37</td>\n",
              "      <td>80500.0</td>\n",
              "      <td>7</td>\n",
              "      <td>Suphanburi</td>\n",
              "      <td>40250.0</td>\n",
              "      <td>Ekkasit(37)</td>\n",
              "    </tr>\n",
              "    <tr>\n",
              "      <th>5</th>\n",
              "      <td>E016</td>\n",
              "      <td>Fundee</td>\n",
              "      <td>female</td>\n",
              "      <td>support</td>\n",
              "      <td>35</td>\n",
              "      <td>56600.0</td>\n",
              "      <td>3</td>\n",
              "      <td>Phuket</td>\n",
              "      <td>28300.0</td>\n",
              "      <td>Fundee(35)</td>\n",
              "    </tr>\n",
              "    <tr>\n",
              "      <th>6</th>\n",
              "      <td>E017</td>\n",
              "      <td>Gitiwit</td>\n",
              "      <td>male</td>\n",
              "      <td>support</td>\n",
              "      <td>26</td>\n",
              "      <td>42400.0</td>\n",
              "      <td>2</td>\n",
              "      <td>Suphanburi</td>\n",
              "      <td>21200.0</td>\n",
              "      <td>Gitiwit(26)</td>\n",
              "    </tr>\n",
              "    <tr>\n",
              "      <th>7</th>\n",
              "      <td>E018</td>\n",
              "      <td>Harit</td>\n",
              "      <td>male</td>\n",
              "      <td>devops</td>\n",
              "      <td>32</td>\n",
              "      <td>67700.0</td>\n",
              "      <td>5</td>\n",
              "      <td>Bangkok</td>\n",
              "      <td>33850.0</td>\n",
              "      <td>Harit(32)</td>\n",
              "    </tr>\n",
              "  </tbody>\n",
              "</table>\n",
              "</div>"
            ],
            "text/plain": [
              "    eid      Name  gender  ... birth_place  extra_salary  name_with_age\n",
              "0  E011      Anda  female  ...     Bangkok       12840.0       Anda(39)\n",
              "1  E012    Bordin    male  ...      Phuket        9740.0     Bordin(25)\n",
              "2  E013  Chantana  female  ...    Chonburi        9100.0   Chantana(29)\n",
              "3  E014   Donlaya  female  ...    Chonburi       36300.0    Donlaya(39)\n",
              "4  E015   Ekkasit    male  ...  Suphanburi       40250.0    Ekkasit(37)\n",
              "5  E016    Fundee  female  ...      Phuket       28300.0     Fundee(35)\n",
              "6  E017   Gitiwit    male  ...  Suphanburi       21200.0    Gitiwit(26)\n",
              "7  E018     Harit    male  ...     Bangkok       33850.0      Harit(32)\n",
              "\n",
              "[8 rows x 10 columns]"
            ]
          },
          "metadata": {
            "tags": []
          },
          "execution_count": 68
        }
      ]
    },
    {
      "cell_type": "code",
      "metadata": {
        "colab": {
          "base_uri": "https://localhost:8080/",
          "height": 35
        },
        "id": "6hKMuB7TDp_e",
        "outputId": "4fae18dd-087f-4a7f-fa5b-18ae439d3361"
      },
      "source": [
        "df[df['gender'] == 'female'].groupby('department').mean().sort_values(by='salary',ascending=False).reset_index().loc[0].department"
      ],
      "execution_count": null,
      "outputs": [
        {
          "output_type": "execute_result",
          "data": {
            "application/vnd.google.colaboratory.intrinsic+json": {
              "type": "string"
            },
            "text/plain": [
              "'marketing'"
            ]
          },
          "metadata": {
            "tags": []
          },
          "execution_count": 74
        }
      ]
    },
    {
      "cell_type": "code",
      "metadata": {
        "colab": {
          "base_uri": "https://localhost:8080/"
        },
        "id": "pxZe4UZGNHi3",
        "outputId": "2519a498-8ba7-498e-a6d9-6130d0c45a5d"
      },
      "source": [
        "df[(df['gender']=='female')][['salary','department']].groupby(['department']).mean().reset_index().sort_values(by='salary').tail(1).department"
      ],
      "execution_count": null,
      "outputs": [
        {
          "output_type": "execute_result",
          "data": {
            "text/plain": [
              "1    marketing\n",
              "Name: department, dtype: object"
            ]
          },
          "metadata": {
            "tags": []
          },
          "execution_count": 73
        }
      ]
    },
    {
      "cell_type": "code",
      "metadata": {
        "colab": {
          "base_uri": "https://localhost:8080/",
          "height": 171
        },
        "id": "h4B6rwuCKfcN",
        "outputId": "f7d54927-360f-4952-f91b-13f2e4c0c31e"
      },
      "source": [
        "df[df['gender'] == 'female']"
      ],
      "execution_count": null,
      "outputs": [
        {
          "output_type": "execute_result",
          "data": {
            "text/html": [
              "<div>\n",
              "<style scoped>\n",
              "    .dataframe tbody tr th:only-of-type {\n",
              "        vertical-align: middle;\n",
              "    }\n",
              "\n",
              "    .dataframe tbody tr th {\n",
              "        vertical-align: top;\n",
              "    }\n",
              "\n",
              "    .dataframe thead th {\n",
              "        text-align: right;\n",
              "    }\n",
              "</style>\n",
              "<table border=\"1\" class=\"dataframe\">\n",
              "  <thead>\n",
              "    <tr style=\"text-align: right;\">\n",
              "      <th></th>\n",
              "      <th>eid</th>\n",
              "      <th>Name</th>\n",
              "      <th>gender</th>\n",
              "      <th>department</th>\n",
              "      <th>age</th>\n",
              "      <th>salary</th>\n",
              "      <th>working_years</th>\n",
              "      <th>birth_place</th>\n",
              "      <th>extra_salary</th>\n",
              "    </tr>\n",
              "  </thead>\n",
              "  <tbody>\n",
              "    <tr>\n",
              "      <th>0</th>\n",
              "      <td>E011</td>\n",
              "      <td>Anda</td>\n",
              "      <td>female</td>\n",
              "      <td>developer</td>\n",
              "      <td>39</td>\n",
              "      <td>64200.0</td>\n",
              "      <td>4</td>\n",
              "      <td>Bangkok</td>\n",
              "      <td>12840.0</td>\n",
              "    </tr>\n",
              "    <tr>\n",
              "      <th>2</th>\n",
              "      <td>E013</td>\n",
              "      <td>Chantana</td>\n",
              "      <td>female</td>\n",
              "      <td>developer</td>\n",
              "      <td>29</td>\n",
              "      <td>45500.0</td>\n",
              "      <td>3</td>\n",
              "      <td>Chonburi</td>\n",
              "      <td>9100.0</td>\n",
              "    </tr>\n",
              "    <tr>\n",
              "      <th>3</th>\n",
              "      <td>E014</td>\n",
              "      <td>Donlaya</td>\n",
              "      <td>female</td>\n",
              "      <td>marketing</td>\n",
              "      <td>39</td>\n",
              "      <td>72600.0</td>\n",
              "      <td>8</td>\n",
              "      <td>Chonburi</td>\n",
              "      <td>36300.0</td>\n",
              "    </tr>\n",
              "    <tr>\n",
              "      <th>5</th>\n",
              "      <td>E016</td>\n",
              "      <td>Fundee</td>\n",
              "      <td>female</td>\n",
              "      <td>support</td>\n",
              "      <td>35</td>\n",
              "      <td>56600.0</td>\n",
              "      <td>3</td>\n",
              "      <td>Phuket</td>\n",
              "      <td>28300.0</td>\n",
              "    </tr>\n",
              "  </tbody>\n",
              "</table>\n",
              "</div>"
            ],
            "text/plain": [
              "    eid      Name  gender  ... working_years  birth_place  extra_salary\n",
              "0  E011      Anda  female  ...             4      Bangkok       12840.0\n",
              "2  E013  Chantana  female  ...             3     Chonburi        9100.0\n",
              "3  E014   Donlaya  female  ...             8     Chonburi       36300.0\n",
              "5  E016    Fundee  female  ...             3       Phuket       28300.0\n",
              "\n",
              "[4 rows x 9 columns]"
            ]
          },
          "metadata": {
            "tags": []
          },
          "execution_count": 38
        }
      ]
    },
    {
      "cell_type": "code",
      "metadata": {
        "colab": {
          "base_uri": "https://localhost:8080/",
          "height": 35
        },
        "id": "tIZq_jD1KsJZ",
        "outputId": "bf5fe1b4-64ba-4acd-e382-11a9e8e3de6d"
      },
      "source": [
        "df[df['gender'] == 'female'].groupby('department').mean().sort_values(by='salary',ascending=False).reset_index().loc[0].department"
      ],
      "execution_count": null,
      "outputs": [
        {
          "output_type": "execute_result",
          "data": {
            "application/vnd.google.colaboratory.intrinsic+json": {
              "type": "string"
            },
            "text/plain": [
              "'marketing'"
            ]
          },
          "metadata": {
            "tags": []
          },
          "execution_count": 55
        }
      ]
    },
    {
      "cell_type": "code",
      "metadata": {
        "colab": {
          "base_uri": "https://localhost:8080/"
        },
        "id": "hzgH0c0cRO8D",
        "outputId": "a8289733-f262-46be-ff98-f7f154165a60"
      },
      "source": [
        "df['gender'] == 'female'"
      ],
      "execution_count": null,
      "outputs": [
        {
          "output_type": "execute_result",
          "data": {
            "text/plain": [
              "0     True\n",
              "1    False\n",
              "2     True\n",
              "3     True\n",
              "4    False\n",
              "5     True\n",
              "6    False\n",
              "7    False\n",
              "Name: gender, dtype: bool"
            ]
          },
          "metadata": {
            "tags": []
          },
          "execution_count": 67
        }
      ]
    },
    {
      "cell_type": "code",
      "metadata": {
        "colab": {
          "base_uri": "https://localhost:8080/"
        },
        "id": "u70CjOoMRl-G",
        "outputId": "0bd6b3f6-e780-425f-bc44-085a5fdc3e0e"
      },
      "source": [
        "df[df['gender'] == 'female'].groupby('department').agg('mean').reset_index().max()"
      ],
      "execution_count": null,
      "outputs": [
        {
          "output_type": "execute_result",
          "data": {
            "text/plain": [
              "department       support\n",
              "age                   39\n",
              "salary             72600\n",
              "working_years          8\n",
              "extra_salary       36300\n",
              "dtype: object"
            ]
          },
          "metadata": {
            "tags": []
          },
          "execution_count": 72
        }
      ]
    },
    {
      "cell_type": "markdown",
      "metadata": {
        "id": "LjuVGBNEJlpu"
      },
      "source": [
        "#จงหาชื่อแผนกทั้งหมด\r\n",
        "แสดงเป็น list โดยไม่ซ้ำกัน ด้วยฟังก์ชั่นที่มีของ pandas"
      ]
    },
    {
      "cell_type": "code",
      "metadata": {
        "colab": {
          "base_uri": "https://localhost:8080/"
        },
        "id": "DwuEypy0JkG_",
        "outputId": "31b9f2b9-4394-4d46-f722-e0cd80e66aeb"
      },
      "source": [
        "df.department.unique().tolist()"
      ],
      "execution_count": null,
      "outputs": [
        {
          "output_type": "execute_result",
          "data": {
            "text/plain": [
              "['developer', 'marketing', 'support', 'devops']"
            ]
          },
          "metadata": {
            "tags": []
          },
          "execution_count": 126
        }
      ]
    },
    {
      "cell_type": "code",
      "metadata": {
        "colab": {
          "base_uri": "https://localhost:8080/"
        },
        "id": "B4cXRfy0Vw7s",
        "outputId": "90e652ee-b527-4631-b2cc-131b3a610cae"
      },
      "source": [
        "df['department'].unique().tolist()"
      ],
      "execution_count": null,
      "outputs": [
        {
          "output_type": "execute_result",
          "data": {
            "text/plain": [
              "['developer', 'marketing', 'support', 'devops']"
            ]
          },
          "metadata": {
            "tags": []
          },
          "execution_count": 76
        }
      ]
    }
  ]
}